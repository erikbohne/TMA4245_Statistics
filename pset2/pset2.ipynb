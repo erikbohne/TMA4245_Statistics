{
 "cells": [
  {
   "cell_type": "markdown",
   "id": "db4f51c2-0e88-4652-8e88-7ee58260ad20",
   "metadata": {},
   "source": [
    "# Innlevering 2, Oppgave 1-6\n",
    "## Oppgave 1 *"
   ]
  },
  {
   "cell_type": "markdown",
   "id": "e8cf136d-89a3-42c3-b3fd-812809527f46",
   "metadata": {},
   "source": [
    "La $X$ være en diskret fordelt stokastisk variabel med punktsannsynlighet $f(x)=P(X=x)$ som angitt i følgende tabell.\n",
    "\n",
    "| $x$ |  | $f(x)$ |\n",
    "|:---:|----|:------:|\n",
    "| $0$ |  | $0.05$ |\n",
    "| $1$ |  | $0.10$ |\n",
    "| $2$ |  | $0.25$ |\n",
    "| $3$ |  | $0.40$ |\n",
    "| $4$ |  | $0.15$ |\n",
    "| $5$ |  | $0.05$ |\n",
    "\n",
    "  * Finn $P(X \\leq 2)$\n",
    "  \n",
    "Python-koden under definerer en funksjon <em>simX</em> som genererer $n$ realisasjoner av $X$. Denne funksjonen kan du benytte til å besvare neste spørsmål. <em>Merk: Studer koden slik at du senere selv kan skrive pythonfunksjoner.</em>"
   ]
  },
  {
   "cell_type": "code",
   "execution_count": 2,
   "id": "00f1e3de",
   "metadata": {},
   "outputs": [],
   "source": [
    "# Importer nødvendige biblioteker, denne cellen må kjøres før annen kode.\n",
    "import numpy as np\n",
    "import matplotlib.pyplot as plt"
   ]
  },
  {
   "cell_type": "code",
   "execution_count": 3,
   "id": "9fa84347-b3b2-426c-aafd-238550981c7f",
   "metadata": {},
   "outputs": [],
   "source": [
    "# UTLEVERT KODE (ingenting her skal endres)\n",
    "# punktsannsynlighet\n",
    "f_x = np.array([0.05,0.10,0.25,0.40,0.15,0.05])\n",
    "\n",
    "# kumulativ fordelingsfunksjon\n",
    "F_x = [np.sum(f_x[:i]) for i in range(1,7)]\n",
    "\n",
    "def simX(n):\n",
    "    # verdimengde\n",
    "    x = np.arange(6) \n",
    "    # for lagring av realisasjoner\n",
    "    x_sim = np.zeros(n) \n",
    "    for i in range(n): # vi simulerer hver og en x for seg\n",
    "        u = np.random.uniform() # en realisasjon fra U(0,1)\n",
    "        if(u < F_x[0]): # hvis u er mindre enn den laveste \n",
    "                        # verdien i F_x vil \n",
    "                         # vi at realisasjonen skal være 0\n",
    "            x_sim[i] = x[0]\n",
    "        elif(u <= F_x[1]): # hvis u er mindre enn den nest \n",
    "                           # laveste verdien (men større enn laveste) \n",
    "                           # vil vi at x skal bli 1\n",
    "            x_sim[i] = x[1]\n",
    "        elif(u <= F_x[2]):\n",
    "            x_sim[i] = x[2]\n",
    "        elif(u <= F_x[3]):\n",
    "            x_sim[i] = x[3]\n",
    "        elif(u <= F_x[4]):\n",
    "            x_sim[i] = x[4]\n",
    "        elif(u > F_x[4]): \n",
    "            x_sim[i] = x[5]\n",
    "    return x_sim"
   ]
  },
  {
   "cell_type": "markdown",
   "id": "b3df12bd-27d5-4e36-8547-9232ece0db95",
   "metadata": {},
   "source": [
    "   * Skriv python-kode som benytter stokastisk simulering, og spesielt <em>simX</em>-funksjonen definert over,\n",
    "    til å finne tilnærmet verdi for $P(X\\leq 2)$. Benytt for eksempel $n=1000$ og kjør gjerne \n",
    "    koden din flere ganger slik at du får en følelse av\n",
    "    nøyaktigheten av tilnærmelsene. Sammenlign verdiene du finner her med den\n",
    "    eksakte verdiene du fant over (og i Skriftlig innlevering 1)."
   ]
  },
  {
   "cell_type": "code",
   "execution_count": 8,
   "id": "5ef64416-f6e7-484e-a2c0-d267b49c429c",
   "metadata": {},
   "outputs": [
    {
     "name": "stdout",
     "output_type": "stream",
     "text": [
      "Approksimert sannsynlighet:  0.41\n"
     ]
    }
   ],
   "source": [
    "# Antall realisasjoner man skal bruke\n",
    "n = 1000\n",
    "\n",
    "# Simuler realisasjoner av X ved å kalle på simX-funksjonen i cellen over\n",
    "simulerte_X = simX(n)\n",
    "\n",
    "# Approksimer sannsynligheten\n",
    "P_X_le_2 = np.sum(simulerte_X <= 2)/n\n",
    "\n",
    "# Skriv ut resultatet\n",
    "print(\"Approksimert sannsynlighet: \",P_X_le_2)"
   ]
  },
  {
   "cell_type": "markdown",
   "id": "2d1c939f",
   "metadata": {},
   "source": [
    "## Oppgave 2 *\n",
    "\n",
    "Vi skal igjen studere den diskrete sannsynlighetsfordelingen fra oppgave 1. \n",
    "\n",
    "* Regn ut forventningsverdien til $X$, $E[X]$\n",
    "* Regn ut variansen, $\\text{Var}(X)$, og standardavviket, $\\text{SD}[X]$.\n",
    "* Bruk <em>simX</em>-funksjonen definert over til å finne tilnærmede verdier for $E[X]$ og $\\text{SD}[X]$. Sammenlign tilnærmingene med de eksakte verdiene du regnet ut over. Kjør gjerne simuleringen (f.eks med $n = 1000$ flere ganger). "
   ]
  },
  {
   "cell_type": "code",
   "execution_count": 7,
   "id": "3311496c",
   "metadata": {},
   "outputs": [
    {
     "name": "stdout",
     "output_type": "stream",
     "text": [
      "Tilnærmet forventningsverdi E[X]: 2.594\n",
      "Tilnærmet standardavvik SD[X]: 1.1520260413723296\n"
     ]
    }
   ],
   "source": [
    "# Antall kjøringer\n",
    "n = 1000\n",
    "\n",
    "# Simuler n ganger\n",
    "x_simulated = simX(n)\n",
    "\n",
    "# Beregn forventningsverdien E[X]\n",
    "mean_x_simulated = np.mean(x_simulated)\n",
    "\n",
    "# Beregn standardavviket SD[X]\n",
    "std_x_simulated = np.std(x_simulated)\n",
    "\n",
    "print(\"Tilnærmet forventningsverdi E[X]:\", mean_x_simulated)\n",
    "print(\"Tilnærmet standardavvik SD[X]:\", std_x_simulated)"
   ]
  },
  {
   "cell_type": "markdown",
   "id": "a086d05b-867e-4f8b-bd74-fe6f29c00a91",
   "metadata": {},
   "source": [
    "## Oppgave 3 *\n",
    "\n",
    "La $X$ være en stokastisk variabel som beskriver hvor lang tid en komponent har fungert i det den svikter.\n",
    "  Vi kaller da $X$ for <em>levetiden</em> for komponenten.\n",
    "\n",
    "  Levetiden $X$ (målt i antall år) til en bestemt type mekaniske komponenter har vist seg å\n",
    "  følge en fordeling med kumulativ fordelingsfunksjon gitt ved\n",
    "  \\begin{align*}\n",
    "    F_X(x) = 1 - \\exp\\left\\{ -\\frac{x^2}{\\alpha}\\right\\}; x\\geq 0,\n",
    "  \\end{align*}\n",
    "  der $\\alpha$ er en parameter som beskriver kvaliteten til komponentene.\n",
    "\n",
    "### Deloppgave a)\n",
    "\n",
    "* Finn sannsynlighetstettheten til $X$, $f_X(x)$. Eventuelt hent denne fra din besvarelse av \n",
    "Skriftlig innlevering 1.\n",
    "\n",
    "### Deloppgave b)\n",
    "\n",
    "La $U\\sim \\mbox{Unif}[0,1]$.\n",
    "\n",
    "   * Finn en formel for hvordan man fra $U$ kan definere $X$ slik at kumulativ fordeling for $X$\n",
    "      blir som angitt over.\n",
    "   * Skriv en python-funksjon som genererer $n$ realisasjoner av $X$. La funksjonen ha to \n",
    "    input-parametre, antall realisasjoner $n$ og verdien til kvalitetsparameteren $\\alpha$. \n",
    "    Benytt funksjonen til å generere (for eksempel) $n=10\\ 000\\ 000$ realisasjoner av $X$ med \n",
    "    (for eksempel) $\\alpha=1$, og lag et sannsynlighetshistogram for de genererte verdiene. Spesifiser at histogrammet skal ha 100 intervaller, se kode under.\n",
    "    Plott også sannsynlighetstettheten $f_X(x)$ i samme plott som\n",
    "    sannsynlighetshistogrammet. Ser det ut til at du har generert \n",
    "    realisasjoner av $X$ på korrekt måte?"
   ]
  },
  {
   "cell_type": "code",
   "execution_count": 75,
   "id": "00f9dd8d-0e63-4bcf-b842-97a80dcc723f",
   "metadata": {},
   "outputs": [
    {
     "data": {
      "image/png": "[encoded data removed]",
      "text/plain": [
       "<Figure size 640x480 with 1 Axes>"
      ]
     },
     "metadata": {},
     "output_type": "display_data"
    }
   ],
   "source": [
    "def generateX(n,alpha):\n",
    "    u = np.random.uniform(size=n) #array med n elementer.\n",
    "    x = np.sqrt(-alpha*np.log(1-u))\n",
    "    \n",
    "    return x\n",
    "\n",
    "# Sett antall realisasjoner og verdien til alpha\n",
    "n = 10000000\n",
    "alpha = 1\n",
    "\n",
    "# simuler realisasjoner av X\n",
    "simulerte_X = generateX(n,alpha)\n",
    "\n",
    "# Lag sannsynlighetshistogram for de simulerte verdiene, \n",
    "# vi spesifiserer antall intervaller ved å sette \"bins=100\"\n",
    "plt.hist(simulerte_X, density=True,bins=100)  #density=True gjør at vi får et sannsynlighetshistogram\n",
    "\n",
    "# Angi navn på aksene\n",
    "plt.xlabel(\"x\")\n",
    "plt.ylabel(\"Sannsynlighetstetthet\")\n",
    "\n",
    "# Regn ut og plott sannsynlighetstettheten til X på samme plott\n",
    "x = np.linspace(0,5,1000) # 1000 verdier mellom 0 og 5\n",
    "y = (2/alpha) * x * np.exp(-(x**2)/alpha) # fyll inn formelen du fant for sannsynlighetstettheten\n",
    "plt.plot(x,y)\n",
    "\n",
    "# Avslutt med å generere alle elementene du har plottet\n",
    "plt.show()"
   ]
  },
  {
   "cell_type": "markdown",
   "id": "3ca2df47-eefd-41a1-9d20-a27b1b8ea420",
   "metadata": {},
   "source": [
    "#### Her er deloppgave b) slutt."
   ]
  },
  {
   "cell_type": "markdown",
   "id": "7ff64247-d100-43c0-9625-13c8744c2d8a",
   "metadata": {},
   "source": [
    "### Deloppgave c)\n",
    "\n",
    "Et instrument inneholder fem komponenter av denne typen, to av disse komponentene har kvalitetsparameter $\\alpha = 1$ og de andre tre komponentene har $\\alpha=1.2$. De fem komponentene svikter uavhengig av hverandre og instrumentet fungerer så lenge minst tre av de fem komponentene fungerer. La $Y$ betegne levetiden til instrumentet.\n",
    "\n",
    "* Skriv en python-funksjon som genererer $n$ realisasjoner av $Y$. Funksjonen skal ha en input-parameter, nemlig antall realisasjoner $n$. Benytt funksjonen til å genererere (for eksempel) $n=10\\ 000$ realisasjoner av $Y$, og lag et sannsynlighetsistogram for de genererte verdiene.\n",
    "* Benytt python-funksjonen til å finne tilnærmede verdier for $P(Y\\geq 1)$ og $P(Y\\geq 1|Y\\geq 0.75)$."
   ]
  },
  {
   "cell_type": "code",
   "execution_count": 110,
   "id": "01b1e9af-482c-4cda-955b-7bc6c4dc5398",
   "metadata": {},
   "outputs": [
    {
     "data": {
      "image/png": "[encoded data removed]",
      "text/plain": [
       "<Figure size 640x480 with 1 Axes>"
      ]
     },
     "metadata": {},
     "output_type": "display_data"
    },
    {
     "name": "stdout",
     "output_type": "stream",
     "text": [
      "P(Y >= 1): 0.3289\n",
      "P(Y >= 1 | Y >= 0.75): 0.480286214953271\n"
     ]
    }
   ],
   "source": [
    "def Y(n):\n",
    "    alpha_1 = 1\n",
    "    alpha_2 = 1.2\n",
    "\n",
    "    # Generer de ulike komponentene\n",
    "    x1 = generateX(n, alpha_1)\n",
    "    x2 = generateX(n, alpha_1)\n",
    "    x3 = generateX(n, alpha_2)\n",
    "    x4 = generateX(n, alpha_2)\n",
    "    x5 = generateX(n, alpha_2)\n",
    "    \n",
    "\n",
    "    # Kombinerer realisasjonene og finner den tredje lengste levetiden for hver realisasjon\n",
    "    lifetime = np.vstack((x1, x2, x3, x4, x5)) \n",
    "    instrument_lifetimes = np.partition(lifetime, 2, axis=0)[2]\n",
    "\n",
    "    return instrument_lifetimes\n",
    "\n",
    "# Sett antall realisasjoner\n",
    "n = 10000\n",
    "\n",
    "# Generer realisasjoner for instrumentets levetid\n",
    "Y_realizations = Y(n)\n",
    "\n",
    "# Plotter sannsynlighetshistogram\n",
    "plt.hist(Y_realizations, bins=100, density=True, alpha=0.7)\n",
    "plt.xlabel('Levetid')\n",
    "plt.ylabel('Sannsynlighet')\n",
    "plt.title('Sannsynlighetshistogram for instrumentets levetid')\n",
    "plt.show()\n",
    "\n",
    "# Beregner tilnærmede verdier for P(Y >= 1) og P(Y >= 1 | Y >= 0.75)\n",
    "P_Y_ge_1 = np.mean(Y_realizations >= 1)\n",
    "P_Y_ge_1_given_Y_ge_075 = np.mean(Y_realizations[Y_realizations >= 0.75] >= 1)\n",
    "\n",
    "print(f\"P(Y >= 1): {P_Y_ge_1}\")\n",
    "print(f\"P(Y >= 1 | Y >= 0.75): {P_Y_ge_1_given_Y_ge_075}\")"
   ]
  },
  {
   "cell_type": "markdown",
   "id": "d9486729-c75b-4424-9cff-1d8800588e95",
   "metadata": {},
   "source": [
    "## Oppgave 4 *\n",
    "\n",
    "Vi skal igjen studere levetidsfordelingen fra Oppgave 3. \n",
    "\n",
    "* Finn en formel for $E[X]$ (som funksjon av $\\alpha$). Du kan her uten bevis benytte at \n",
    "  $$\n",
    "  \\int_{-\\infty}^\\infty e^{-x^2}dx = \\sqrt{\\pi}.\n",
    "  $$ \n",
    "  Du kan verifisere om resultatet virker rimelig ved å sammenlikne med histogrammet fra oppgave 3.\n",
    "* Benytt python-funksjonen du har implementert i oppgave 3 c til å finne tilnærmede verdier for $E[Y]$ og $\\mbox{SD}[Y]$."
   ]
  },
  {
   "cell_type": "code",
   "execution_count": 134,
   "id": "aaff298e",
   "metadata": {},
   "outputs": [
    {
     "name": "stdout",
     "output_type": "stream",
     "text": [
      "Tilnærmet forventningsverdi E[Y]: 0.8982129876782987\n",
      "Tilnærmet standardavvik SD[Y]: 0.26522696452296113\n"
     ]
    }
   ],
   "source": [
    "# Sett antall realisasjoner\n",
    "n = 10000\n",
    "\n",
    "# Generer realisasjoner for instrumentets levetid\n",
    "Y_realizations = Y(n)\n",
    "\n",
    "# Beregn forventningsverdien E[Y]\n",
    "mean_Y_realizations = np.mean(Y_realizations)\n",
    "\n",
    "# Beregn standardavviket SD[Y]\n",
    "std_Y_realizations = np.std(Y_realizations)\n",
    "\n",
    "print(\"Tilnærmet forventningsverdi E[Y]:\", mean_Y_realizations)\n",
    "print(\"Tilnærmet standardavvik SD[Y]:\", std_Y_realizations)"
   ]
  },
  {
   "cell_type": "code",
   "execution_count": 202,
   "id": "a95c0bbe",
   "metadata": {},
   "outputs": [
    {
     "name": "stdout",
     "output_type": "stream",
     "text": [
      "Estimert E[X] for alpha=1: 0.8893834652108561\n",
      "Teoretisk E[X] for alpha=1: 0.8862269254527579\n"
     ]
    }
   ],
   "source": [
    "alpha = 3  # Sett inn ønsket verdi for alpha\n",
    "\n",
    "# Generer n simuleringer av U\n",
    "n = 100000\n",
    "U = np.random.uniform(0, 1, n)\n",
    "\n",
    "# Beregn realisasjoner av X\n",
    "X = np.sqrt(-alpha * np.log(1-U))\n",
    "\n",
    "# Estimer E[X] som gjennomsnittet av X-realisationene\n",
    "E_X_estimated = np.mean(X)\n",
    "print(f\"Estimert E[X] for alpha={alpha}: {E_X_estimated}\")\n",
    "print(f\"Teoretisk E[X] for alpha={alpha}: {np.sqrt(np.pi*alpha)/2}\")"
   ]
  },
  {
   "cell_type": "markdown",
   "id": "363084a4-92f2-4658-9006-9843bb223803",
   "metadata": {},
   "source": [
    "## Oppgave 5 \n",
    "Simultanfordelingen $f_{XY}(x,y)$ til to diskret fordelte stokastiske \n",
    "variabler $X$ og $Y$ er gitt ved følgende tabell.\n",
    "\n",
    "  |       | $y=0$ | $y=1$ | $y=2$ | $y=3$ |\n",
    "  |:-----:|:-----:|:-----:|:-----:|:-----:|\n",
    "  | $x=0$ | $\\frac{1}{18}$ | $\\frac{1}{6}$ | $\\frac{1}{18}$ | $\\frac{1}{18}$ |\n",
    "  | $x=1$ | $\\frac{1}{18}$ | $\\frac{1}{18}$ | $\\frac{1}{6}$ | $\\frac{1}{18}$ |\n",
    "  | $x=2$ | $\\frac{1}{18}$ | $\\frac{1}{18}$ | $\\frac{1}{18}$ | $\\frac{1}{6}$ |\n",
    "  \n",
    "\n",
    "  * Finn marginalfordelingen for $X$, dvs $f_X(x)$, og den betingede \n",
    "    fordelingen for $Y$ gitt $X$, dvs\n",
    "    $f_{Y|X}(y|x)$.\n",
    "  * Finn forventningsverdien for $X$, $E[X]$, og forventningsverdien \n",
    "    til $Y$, $E[Y]$.\n",
    "  * Er $X$ og $Y$ uavhengige stokastiske variabler? Begrunn svaret.\n",
    "  * Finn $\\text{Cov}[X,Y]$.\n"
   ]
  },
  {
   "cell_type": "markdown",
   "id": "255fa809-94f3-427b-b77c-2b5b3a93034e",
   "metadata": {},
   "source": [
    "## Oppgave 6\n",
    "\n",
    "En maskin produserer aluminiumsplater som ifølge produktspesifikasjonen skal veie 100 gram.\n",
    "Det blir akseptert et lite avvik fra denne vekten, men dersom vekten avviker mer enn ±1 gram fra\n",
    "denne verdien, blir aluminiumsplaten vurdert til å være defekt.\n",
    "\n",
    "Anta at vekten på aluminiumsplatene som produseres har forventning 100 gram\n",
    "og standardavvik 0.8 gram.\n",
    "\n",
    "### Deloppgave a)\n",
    "\n",
    "Ti plater pakkes i en pappeske. Pappesken veier 50 gram. Platenes vekt er uavhengige.\n",
    "\n",
    "* Hva er forventet vekt av pappesken med ti tilfeldig valgte plater?\n",
    "* Hva er standarddavviket?\n",
    "\n",
    "### Deloppgave b)\n",
    "\n",
    "Sannsynligheten for at en aluminiumsplate ikke følger spesifikasjonen er $0.21$. Vi ser som før på en eske med ti tilfeldig valgte plater.\n",
    "* Hva er forventet antall defekte plater i esken?\n",
    "* Hva er sannsynligheten for at minst en plate er defekt?"
   ]
  },
  {
   "cell_type": "markdown",
   "id": "36737e01-0ad7-4b08-9a7c-62264194879c",
   "metadata": {},
   "source": [
    "## Fasit:\n",
    "* Oppgave 1: $0.40$\n",
    "* Oppgave 2: $E[X]=2.65, \\text{Var}[X]=1.3275$\n",
    "* Oppgave 5: $E[X]=1, E[Y]=5/3, \\text{Cov}[X,Y]=2/9$\n",
    "* Oppgave 6a): $1050, 2.53$\n",
    "* Oppgave 6b): $2.1, 0.905$"
   ]
  }
 ],
 "metadata": {
  "kernelspec": {
   "display_name": "Python 3 (ipykernel)",
   "language": "python",
   "name": "python3"
  },
  "language_info": {
   "codemirror_mode": {
    "name": "ipython",
    "version": 3
   },
   "file_extension": ".py",
   "mimetype": "text/x-python",
   "name": "python",
   "nbconvert_exporter": "python",
   "pygments_lexer": "ipython3",
   "version": "3.10.13"
  }
 },
 "nbformat": 4,
 "nbformat_minor": 5
}
