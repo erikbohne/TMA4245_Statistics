{
 "cells": [
  {
   "cell_type": "markdown",
   "id": "927a893a-5475-4c13-b073-e75478a87ece",
   "metadata": {},
   "source": [
    "# Innlevering 6"
   ]
  },
  {
   "cell_type": "markdown",
   "id": "0e52e26e-7106-4805-9fb5-405032d4f75e",
   "metadata": {},
   "source": [
    "## Oppgave 1"
   ]
  },
  {
   "cell_type": "markdown",
   "id": "f12e8de8-c20a-4c37-9877-1ee3c1b47cff",
   "metadata": {},
   "source": [
    "Anta at vi har observert observasjonspar $(x_1,y_1),(x_2,y_2),\\ldots,(x_n,y_n)$ og at vi ønsker å tilpasse disse til en regresjonsmodell på formen\n",
    "\n",
    "$Y_i = a x_i + \\varepsilon_i$,\n",
    "\n",
    "der $\\varepsilon_1,\\varepsilon_2,\\ldots,\\varepsilon_n$ antas uavhengige og identisk normalfordelt med forventningsverdi lik null og varians lik $\\sigma^2$. Vi har dermed at $Y_1,Y_2,\\ldots,Y_n$ er uavhengige stokastiske variabler, og $Y_i\\sim N(ax_i,\\sigma^2)$.\n",
    "\n",
    "Merk at vi altså betrakter de observerte verdiene $y_1,y_2,\\ldots,y_n$ som realisasjoner av stokastiske variabler $Y_1,Y_2,\\ldots,Y_n$, mens verdiene $x_1,x_2,\\ldots,x_n$ betrakter vi som kjente tall.\n",
    "\n",
    "Modellen har to parametre, $a$ og $\\sigma^2$, og vi ønsker å estimere verdien til disse fra de observerte parene $(x_1,y_1),(x_2,y_2),...,(x_n,y_n)$."
   ]
  },
  {
   "cell_type": "markdown",
   "id": "59b8ded6-985b-40a9-b004-2de161bf14cd",
   "metadata": {},
   "source": [
    "### Deloppgave a) **"
   ]
  },
  {
   "cell_type": "markdown",
   "id": "fe0957dc-8962-43e7-8d06-c119ada3551e",
   "metadata": {},
   "source": [
    "Finn uttrykk for rimelighetsfunksjonen $L(a,\\sigma^2)$ for situasjonen over.\n",
    "\n",
    "Bruk $L(a,\\sigma^2)$ til å finne uttrykk for log-rimelighetsfunksjonen $\\ell (a,\\sigma^2)$.\n",
    "\n",
    "Finn sannsynlighetsmaksimeringsestimatorene for $a$ og $\\sigma^2$ og vis at disse kan skrives på formen\n",
    "\n",
    "$$\\hat{a}=\\frac{\\sum_{i=1}^n x_iY_i}{\\sum_{i=1}^n x_i^2},\\,\\,\\,\\, \n",
    "\\widehat{\\sigma}^2 = \\frac{1}{n}\\sum_{i=1}^n \\left(Y_i-\\hat{a}x_i\\right)^2.$$"
   ]
  },
  {
   "cell_type": "markdown",
   "id": "6a90d7dc-7e76-4520-95e7-ed3c41f44067",
   "metadata": {},
   "source": [
    "### Deloppgave b) *"
   ]
  },
  {
   "cell_type": "markdown",
   "id": "1e4e2d31-4922-422f-a4c7-5b2f8254de57",
   "metadata": {},
   "source": [
    "Finn forventningsverdi og varians for estimatoren $\\hat{a}$. Du skal forenkle uttrykkene så mye det lar seg gjøre.\n",
    "\n",
    "Er $\\hat{a}$ forventningsrett? Begrunn svaret."
   ]
  },
  {
   "cell_type": "markdown",
   "id": "4e0314a2-3179-42d0-b9e5-83f0a6a30fd2",
   "metadata": {},
   "source": [
    "#### Her er deloppgave b) slutt."
   ]
  },
  {
   "cell_type": "markdown",
   "id": "e994203c-585a-425a-b0b4-4331953dbfa6",
   "metadata": {},
   "source": [
    "Det kan vises (NB: du trenger ikke vise det) at \n",
    "\n",
    "$\\sum_{i=1}^n \\left(\\frac{Y_i-\\hat{a}x_i}{\\sigma}\\right)^2 \\sim \\chi^2_{n-1}$.\n",
    "\n",
    "Dette resultatet kan du benytte til å besvare spørsmålene under."
   ]
  },
  {
   "cell_type": "markdown",
   "id": "67ad46f6-18c2-4a44-8a17-31ef799a3b0f",
   "metadata": {},
   "source": [
    "### Deloppgave c) *"
   ]
  },
  {
   "cell_type": "markdown",
   "id": "e5e3e4e4-214e-489d-8452-f73a1e2b1848",
   "metadata": {},
   "source": [
    "Finn forventningsverdien til $\\widehat{\\sigma}^2$. \n",
    "\n",
    "Forklar hvordan du kan se at $\\widehat{\\sigma}^2$ er forventningsskjev.\n",
    "\n",
    "Foreslå en \"korrigert\" estimator for $\\sigma^2$ (kall denne $\\tilde\\sigma^2$) som er forventningsrett.\n",
    "\n",
    "Finn variansen til den forventningsrette estimatoren for $\\sigma^2$."
   ]
  },
  {
   "cell_type": "markdown",
   "id": "b1ed1b5a",
   "metadata": {},
   "source": [
    "## Oppgave 2 *"
   ]
  },
  {
   "cell_type": "markdown",
   "id": "d6e81901",
   "metadata": {},
   "source": [
    "I denne oppgaven skal du benytte stokastisk simulering til å utforske hvordan et residualplott ser ut når modellen som antas i enkel lineær regresjon er korrekt og hvordan residualplott ser ut i noen tilfeller hvor den antatte modellen ikke er korrekt.\n",
    "\n",
    "Vi skal starte med å anta følgende modell. For $i=1,2,\\ldots,n$ la\n",
    "\n",
    "$y_i = 0.5 + 0.25 x_i + \\varepsilon_i$,\n",
    "\n",
    "der $\\varepsilon_1,\\varepsilon_2,\\ldots,\\varepsilon_n$ er uavhengige og normalfordelte med forventningsverdi lik null og varians lik $0.25^2$. Her er altså modellen som antas i enkel lineær regresjon korrekt, og parameterverdiene er $\\alpha=0.5$, $\\beta=0.25$ og $\\sigma=0.25$.\n",
    "\n",
    "I python-koden under har du fått oppgitt verdier for $x_i$ $i=1,2,...,25$. Deretter genereres tilhørende verdier for $y_1,y_2,\\ldots,y_n$ ifølge modellen formulert ovenfor. De genererte verdiene visuliseres så i et spredningsplott."
   ]
  },
  {
   "cell_type": "code",
   "execution_count": 1,
   "id": "ecffeb73",
   "metadata": {},
   "outputs": [
    {
     "data": {
      "image/png": "[encoded data removed]",
      "text/plain": [
       "<Figure size 640x480 with 1 Axes>"
      ]
     },
     "metadata": {},
     "output_type": "display_data"
    }
   ],
   "source": [
    "# Du trenger ikke endre noe i denne koden!\n",
    "\n",
    "import numpy as np\n",
    "#from scipy.stats import norm\n",
    "import matplotlib.pyplot as plt\n",
    "\n",
    "#Initialisering av parameterverdier\n",
    "n = 25\n",
    "alpha = 0.5\n",
    "beta = 0.25\n",
    "sigma = 0.25\n",
    "\n",
    "#Simulering av data etter modell\n",
    "# x_1,x_2,...,x_n i intervallet [-5,5]\n",
    "x = np.array([-3.842, -3.784, -3.745, -3.708, -3.37,  -3.288, -2.312, -2.078, -2.019, \n",
    "              -1.595,-1.106, -0.352, -0.171,  1.166,  2.196,  2.538,  2.772,  3.186,  \n",
    "              3.309,3.876, 4.2,    4.261,  4.337,  4.352,  4.359])\n",
    "# genererer tilhørende verdier for y_1,y_2,...,y_n\n",
    "y = alpha + beta * x + np.random.normal(loc=0,scale=sigma,size=n) \n",
    "\n",
    "#Visualiserer resultatet i et plott\n",
    "plt.plot(x,y,'bo')\n",
    "plt.xlabel('x')\n",
    "plt.ylabel('y')\n",
    "plt.show()"
   ]
  },
  {
   "cell_type": "markdown",
   "id": "e68862cc",
   "metadata": {},
   "source": [
    "Under er det gitt en python-funksjon som tar vektorer $x$ og $y$ som input og regner ut estimatene $\\hat{\\alpha}$, $\\hat{\\beta}$ og $S^2$ i en enkel lineær regresjonsmodell. Dette er tilsvarende metode som ble gjort i oppgave 1, bare nå med et konstantledd (SME for lineærregresjon, og forventningsrett estimator for variansen)."
   ]
  },
  {
   "cell_type": "code",
   "execution_count": 5,
   "id": "59dddc1b",
   "metadata": {},
   "outputs": [
    {
     "name": "stdout",
     "output_type": "stream",
     "text": [
      "alphaHat:  0.5598893201419877\n",
      "betaHat:  0.24214607816690004\n",
      "s2:  0.07649057645827115\n"
     ]
    }
   ],
   "source": [
    "# Du trenger ikke endre noe i denne koden!\n",
    "\n",
    "def estimerELR(x,y):\n",
    "    #Beregner gjennomsnitt\n",
    "    xStrek = np.mean(x)\n",
    "    yStrek = np.mean(y)\n",
    "    #Estimater for parametere\n",
    "    betaHat = np.sum((x-xStrek)*y)/np.sum((x-xStrek)**2)\n",
    "    alphaHat = yStrek - betaHat * xStrek\n",
    "    S2 = np.sum((y-(alphaHat+betaHat*x))**2)/(len(x)-2)\n",
    "    #Returnerer resultatet i en liste\n",
    "    return [alphaHat,betaHat,S2]\n",
    "\n",
    "paramHat = estimerELR(x,y)\n",
    "print('alphaHat: ',paramHat[0])\n",
    "print('betaHat: ',paramHat[1])\n",
    "print('s2: ',paramHat[2])     "
   ]
  },
  {
   "cell_type": "markdown",
   "id": "e660c8b1",
   "metadata": {},
   "source": [
    "### Deloppgave a) \n",
    "Kjør de to bitene med python-kode gitt over. Betrakt nå de genererte $x$ og $y$-verdiene som observerte verdier, og skriv under python-kode som regner ut de resulterende (estimerte) residualene. Lag også et residualplott hvor du plotter $x_i$-verdiene langs $x$-aksen og de (estimerte) residualene langs $y$-aksen. \n",
    "\n",
    "Kjør gjerne (alle de tre) pythonkodebitene flere ganger slik at du får et inntrykk av hvordan residualplottet varierer for ulike datasett (generert fra den spesifiserte regresjonsmodellen). Diskuter kort hva du ser (eller ikke kan se) i residualplottene."
   ]
  },
  {
   "cell_type": "code",
   "execution_count": 6,
   "id": "4721a1cc",
   "metadata": {},
   "outputs": [
    {
     "data": {
      "image/png": "[encoded data removed]",
      "text/plain": [
       "<Figure size 640x480 with 1 Axes>"
      ]
     },
     "metadata": {},
     "output_type": "display_data"
    }
   ],
   "source": [
    "epsilon = []\n",
    "alphaHat = paramHat[0]\n",
    "betaHat = paramHat[1]\n",
    "\n",
    "for i in range(len(x)):\n",
    "    epsilon.append(y[i] - alphaHat - betaHat*x[i])\n",
    "\n",
    "plt.scatter(x, epsilon, color='red')\n",
    "plt.axhline(y=0, color='blue', linestyle='--')\n",
    "plt.xlabel('x')\n",
    "plt.ylabel('Residualer')\n",
    "plt.title('Residualplott')\n",
    "plt.show()"
   ]
  },
  {
   "cell_type": "markdown",
   "id": "004ed1c5",
   "metadata": {},
   "source": [
    "#### Her er deloppgave a) slutt.\n",
    "\n",
    "Du skal så utforske hvordan et residualplott kan bli seende ut når modellen som antas i enkel lineær regresjon ikke er korrekt. For å gjøre dette kan du bruke samme $x$-verdier som du brukte i forrige deloppgave. Deretter skal du generere $y$-verdier ifølge\n",
    "\n",
    "$y_i = 0.5 + 0.25 x_i + 0.02 x_i^2 + \\varepsilon_i,$\n",
    "\n",
    "der $\\varepsilon_1,\\varepsilon_2,\\ldots,\\varepsilon_n$ er uavhengige og normalfordelte med forventningsverdi null og varians lik $0.10^2$.\n",
    "\n",
    "### Deloppgave b)\n",
    "\n",
    "\n",
    "Skriv python-kode som genererer $n=25$ par $(x_i,y_i)$ som beskrevet over. Betrakt så disse simulerte dataene som observerte data og tilpass en enkel lineær regresjonsmodell ved å kalle python-funksjonen estimerELR gitt over. Regn så ut (estimerte) residualer og generer residualplott. \n",
    "\n",
    "Kjør gjerne python-koden flere ganger slik at du får et inntrykk av hvordan residualplottet varierer for ulike datasett (generert fra den spesifiserte modellen). Diskuter kort hva du ser (eller ikke kan se) i residualplottene."
   ]
  },
  {
   "cell_type": "code",
   "execution_count": 60,
   "id": "d392269f",
   "metadata": {},
   "outputs": [
    {
     "data": {
      "image/png": "[encoded data removed]",
      "text/plain": [
       "<Figure size 640x480 with 1 Axes>"
      ]
     },
     "metadata": {},
     "output_type": "display_data"
    }
   ],
   "source": [
    "n = 25\n",
    "alpha = 0.5\n",
    "beta = 0.25\n",
    "gamma = 0.02\n",
    "sigma = 0.10\n",
    "\n",
    "\n",
    "y = alpha + beta * x + gamma * x**2 + np.random.normal(loc=0,scale=sigma,size=n)\n",
    "paramHat = estimerELR(x,y)\n",
    "\n",
    "epsilon = []\n",
    "alphaHat = paramHat[0]\n",
    "betaHat = paramHat[1]\n",
    "\n",
    "for i in range(len(x)):\n",
    "    epsilon.append(y[i] - alphaHat - betaHat*x[i])\n",
    "\n",
    "plt.scatter(x, epsilon, color='red')\n",
    "plt.axhline(y=0, color='blue', linestyle='--')\n",
    "plt.xlabel('x')\n",
    "plt.ylabel('Residualer')\n",
    "plt.title('Residualplott')\n",
    "plt.show()\n"
   ]
  },
  {
   "cell_type": "markdown",
   "id": "ec0ed484",
   "metadata": {},
   "source": [
    "#### Her er deloppgave b) slutt.\n",
    "\n",
    "Du skal så utforske hvordan residualplottet blir seende ut for en annen modell som avviker fra hva som antas i en enkel lineær regresjonsmodell. Bruk samme $x_i$-verdier slik som over. Genererer deretter $y_i$-verdier ifølge\n",
    "\n",
    "$y_i = 0.5 + 0.25 x_i + \\varepsilon_i,$\n",
    "\n",
    "der $\\varepsilon_1,\\varepsilon_2,\\ldots,\\varepsilon_n$ er uavhengige og $\\varepsilon_i\\sim N(0,0.10^2\\cdot(0.1+x_i^2))$\n"
   ]
  },
  {
   "cell_type": "markdown",
   "id": "659c948e",
   "metadata": {},
   "source": [
    "### Deloppgave c)\n",
    "\n",
    "Skriv og kjørpython-kode som simulerer $y$-verdier som beskrevet over, og så bruker disse tilsvarende som i oppgave b) over til å generere tilhørende residualplott. \n",
    "\n",
    "Kjør gjerne python-koden flere ganger slik at du får et inntrykk av hvordan residualplottet varierer for ulike datasett (generert fra den spesifiserte modellen). Diskuter kort hva du ser (eller ikke kan se) i residualplottene."
   ]
  },
  {
   "cell_type": "code",
   "execution_count": 81,
   "id": "888a22d0",
   "metadata": {},
   "outputs": [
    {
     "data": {
      "image/png": "[encoded data removed]",
      "text/plain": [
       "<Figure size 640x480 with 1 Axes>"
      ]
     },
     "metadata": {},
     "output_type": "display_data"
    }
   ],
   "source": [
    "n = 25\n",
    "alpha = 0.5\n",
    "beta = 0.25\n",
    "sigma = 0.10\n",
    "\n",
    "y = alpha + beta * x + np.random.normal(loc=0,scale=sigma*(0.1+x**2),size=n)\n",
    "paramHat = estimerELR(x,y)\n",
    "\n",
    "epsilon = []\n",
    "alphaHat = paramHat[0]\n",
    "betaHat = paramHat[1]\n",
    "\n",
    "for i in range(len(x)):\n",
    "    epsilon.append(y[i] - alphaHat - betaHat*x[i])\n",
    "\n",
    "plt.scatter(x, epsilon, color='red')\n",
    "plt.axhline(y=0, color='blue', linestyle='--')\n",
    "plt.xlabel('x')\n",
    "plt.ylabel('Residualer')\n",
    "plt.title('Residualplott')\n",
    "plt.show()"
   ]
  },
  {
   "cell_type": "markdown",
   "id": "d4242850",
   "metadata": {},
   "source": [
    "## Oppgave 3 *\n",
    "Vi skal i denne oppgaven anta at bremselengden, $Y$ , målt i meter for en bil som kjører $x$ km/time antas å være normalfordelt med forventningsverdi $\\beta x^2$ og standardavvik $\\sigma x$. En bil som for eksempel kjører i 50 km/time vil dermed ha en bremselengde som er normalfordelt med forventningsverdi $2500\\beta$ og standardavvik $50\\sigma$. Modellen har to parametre, $\\beta$ og $\\sigma^2$, og disse vil avhenge av forsøksbetingelsene, som for eksempel dekkenes egenskaper, veidekke og vær- og føreforhold.\n",
    "\n",
    "Anta nå at verdiene til $\\beta$ og $\\sigma^2$ er ukjent og skal estimeres. For å estimere disse parametrene gjøres $n$ bremseprøver med ulike hastigheter, men forøvrig under identiske forsøksbetingelser. La $x_i$ betegne hastigheten benyttet ved bremseprøve nummer $i$, og la $Y_i$ være tilhørende bremselengde. Vi skal anta at bremseprøvene utføres på en slik måte at det er rimelig å betrakte $Y_1,Y_2,\\ldots,Y_n$ som uavhengige stokastiske variabler. Vi lar som vanlig $y_1,y_2,\\ldots,y_n$ betegne de målte bremselengdene.\n",
    "\n",
    "### Deloppgave a)\n",
    "\n",
    "Utled estimatorer for $\\beta$ og $\\sigma^2$ ved å benytte sannsynlighetsmaksimeringsprinsippet. Vis at estimatorene kan skrives på formen\n",
    "\n",
    "\\begin{align*}\n",
    "\\hat{\\beta}&=\\frac{\\sum_{i=1}^n Y_i}{\\sum_{i=1}^n x_i^2},\\\\\n",
    "\\widehat{\\sigma}^2 &= \\frac{1}{n}\\sum_{i=1}^n \\left(\\frac{Y_i-\\hat{\\beta}x_i^2}{x_i}\\right)^2.~~~~~~~~~~~~~~~~~~~~~~~~~~~~~~~~\n",
    "\\end{align*}\n",
    "\n",
    "### Deloppgave b)\n",
    "\n",
    "Finn forventningsverdi og varians for estimatoren $\\hat{\\beta}$. \n",
    "\n",
    "Hvilken sannsynlighetsfordeling har $\\hat{\\beta}$? Begrunn svaret.\n",
    "\n",
    "### Deloppgave c)\n",
    "\n",
    "Bruk antagelsene gjort i oppgaveteksten over og sammenhenger mellom fordelinger som vi har diskutert tidligere i kurset til å vise at \n",
    "\n",
    "\\begin{align*}\n",
    "\\sum_{i=1}^n \\left(\\frac{Y_i-\\beta x_i^2}{\\sigma x_i}\\right)^2~~~~~~~~~~~~~~~~~~~~~~~~~~~~~~~~~~~~~~~~~~~~~\n",
    "\\end{align*}\n",
    "\n",
    "er $\\chi^2$-fordelt med $n$ frihetsgrader. Merk at det i uttrykket over står den (ukjente) sanne verdien $\\beta$. \n",
    "\n",
    "#### Her er deloppgave c) slutt.\n",
    "\n",
    "Videre i oppgaven kan du uten bevis benytte at dersom man i uttrykket gitt i deloppgave c) erstatter den (ukjente) sanne verdien $\\beta$ med estimatoren $\\hat{\\beta}$ vil størrelsen fremdeles være $\\chi^2$-fordelt, men antall frihetsgrader vil reduseres med en. Man har altså at\n",
    "\n",
    "\\begin{align*}\n",
    "V = \\sum_{i=1}^n \\left(\\frac{Y_i-\\hat{\\beta} x_i^2}{\\sigma x_i}\\right)^2~~~~~~~~~~~~~~~~~~~~~~~~~~~~~~~~~~~~~~~~~~~~~\n",
    "\\end{align*}\n",
    "\n",
    "er $\\chi^2$-fordelt med $n-1$ frihetsgrader. Du kan dessuten uten bevis benytte at $\\hat{\\beta}$ og $V$ er uavhengige stokastiske variabler.\n",
    "\n",
    "### Deloppgave d)\n",
    "\n",
    "Identifiser en pivotal som kan brukes til å utlede en konfidensintervall for $\\beta$. Vis hvilken sannsynlighetsfordeling pivotalen har, og bruk så dette til å utlede et $(1-\\alpha)\\cdot 100\\%$-konfidensintervall for $\\beta$.\n"
   ]
  },
  {
   "cell_type": "markdown",
   "id": "710d302d",
   "metadata": {},
   "source": [
    "## Oppgave 4\n",
    "I denne oppgaven skal vi tilpasse en enkel lineær regresjonsmodell til et datasett hvor $x_i$-ene er målt tetthet til australsk tømmer, mens tilhørende $y_i$ er målt verdi for den såkalte Janka-hardheten til det samme tømmeret. En grundigere presentasjon og diskusjon av datasettet finnes i 'E.J. Williams. Regression analysis. John Wiley & Sons Inc., New York, 1959; Tabell 3.1, side 43'.\n",
    "\n",
    "### Deloppgave a) *"
   ]
  },
  {
   "cell_type": "code",
   "execution_count": null,
   "id": "740611d1",
   "metadata": {},
   "outputs": [
    {
     "name": "stdout",
     "output_type": "stream",
     "text": [
      "alphaHat:  -1160.4997036594077\n",
      "betaHat:  57.50667476417559\n",
      "s2:  33510.778715229375\n"
     ]
    },
    {
     "data": {
      "image/png": "[encoded data removed]",
      "text/plain": [
       "<Figure size 640x480 with 1 Axes>"
      ]
     },
     "metadata": {},
     "output_type": "display_data"
    }
   ],
   "source": [
    "import numpy as np\n",
    "from scipy.stats import norm\n",
    "import matplotlib.pyplot as plt\n",
    "\n",
    "x = np.array([24.7,24.8,27.3,28.4,28.4,29.0,30.3,32.7,35.6,38.5,38.8,39.3,39.4,39.9,40.3,40.6,40.7,40.7,\n",
    "              42.9,45.8,46.9,48.2,51.5,51.5,53.4,56.0,56.5,57.3,57.6,59.2,59.8,66.0,67.4,68.8,69.1,69.1])\n",
    "y = np.array([484,427,413,517,549,648,587,704,979,914,1070,1020,1210,989,1160,1010,1100,1130,1270,1180,\n",
    "              1400,1760,1710,2010,1880,1980,1820,2020,1980,2310,1940,3260,2700,2890,2740,3140])\n",
    "\n",
    "\n",
    "plt.plot(x,y,'bo')\n",
    "plt.xlabel('x')\n",
    "plt.ylabel('y')\n",
    "\n",
    "\n",
    "def estimerELR(x,y):\n",
    "    #Beregner gjennomsnitt\n",
    "    xStrek = np.mean(x)\n",
    "    yStrek = np.mean(y)\n",
    "    #Estimater for parametere\n",
    "    betaHat = np.sum((x-xStrek)*y)/np.sum((x-xStrek)**2)\n",
    "    alphaHat = yStrek - betaHat * xStrek\n",
    "    S2 = np.sum((y-(alphaHat+betaHat*x))**2)/(len(x)-2)\n",
    "    #Returnerer resultatet i en liste\n",
    "    return [alphaHat,betaHat,S2]\n",
    "\n",
    "paramHat = estimerELR(x,y)\n",
    "print('alphaHat: ',paramHat[0])\n",
    "print('betaHat: ',paramHat[1])\n",
    "print('s2: ',paramHat[2])\n",
    "\n",
    "plt.plot(x,y,'bo')\n",
    "plt.plot(x,paramHat[0]+paramHat[1]*x,'r')\n",
    "for i in range(len(x)):\n",
    "    plt.plot([x[i],x[i]],[y[i],paramHat[0]+paramHat[1]*x[i]],'orange')\n",
    "\n",
    "plt.xlabel('x')\n",
    "plt.ylabel('y')\n",
    "plt.show()"
   ]
  },
  {
   "cell_type": "markdown",
   "id": "1dc74306",
   "metadata": {},
   "source": [
    "Visualiser dataene i et spredningsplott. \n",
    "\n",
    "Anta så en enkel lineær regresjonsmodell for dataene og estimer parametrene $\\alpha$, $\\beta$ og $\\sigma^2$ basert på sannsynlighetsmaksimeringsprinsippet (dvs. regn ut estimater for de tre parametrene). Legg til den estimerte linja $y=\\hat{\\alpha}+\\hat{\\beta}x$ i spredningsplottet.\n",
    "\n",
    "Regn ut de (estimerte) residualene og visualiser disse i et residualplott. Diskuter det du ser i spredningsplottet og i residualplottet. Tyder plottene på at en enkel lineær regresjonsmodell passer for dette datasettet?\n",
    "\n",
    "#### Her er deloppgave a) slutt.\n",
    "\n",
    "Uansett hva du konkluderte med i deloppgave a) skal du videre i oppgaven gi svar basert på en enkel lineær regresjonsmodell. Merk dessuten at du i resten av denne oppgaven kan benytte resultater som er utledet i læreboka/introvideoer/forelesninger, men må passe på at forutsetningene for resultatene du benytter er oppfylt.\n",
    "\n",
    "### Deloppgave b) *\n",
    "\n",
    "Benytt datasettet til å gjennomføre en hypotesetest hvor du tester $H_0: \\alpha=0$ mot $H_1: \\alpha \\neq 0$. Dvs. spesifiser hvilken testobservator du vil benytte, angi hvilken sannsynlighetsfordeling testobservatoren har når $H_0$ er sann, finn en beslutningsregel slik at testen får signifikansnivå lik $0.10$, og benytt de observerte data til å bestemme om man skal forkaste $H_0$ eller ikke. "
   ]
  },
  {
   "cell_type": "code",
   "execution_count": null,
   "id": "8eadd15e",
   "metadata": {},
   "outputs": [],
   "source": [
    "# Her kan du skrive python-kode for å gjøre beregningene du trenger for å besvare oppgaven"
   ]
  },
  {
   "cell_type": "markdown",
   "id": "f2aeeea8",
   "metadata": {},
   "source": [
    "### Deloppgave c)\n",
    "\n",
    "Du skal så finne et $90\\%$-prediksjonsintervall for Janka-hardheten, $Y_0$ i en trestamme hvor tettheten i trestammen er målt til $x=x_0$. Angi svaret som et intervall hvor nedre og øvre grense i intervallet er en funksjon av $x_0$. Plott opp nedre og øvre grense av prediksjonsintervallet sammen med spredningsplottet for $x_0\\in [24,70]$. \n",
    "\n",
    "Det å måle hardheten, altså $x$, i en trestamme kan gjøres raskt, mens det å måle Janka-hardheten, altså $Y$, er en mer arbeidskrevende prosess. Basert på dine resultater i denne oppgaven, vil du si at det er fornuftig erstatte en måling av Janka-hardheten med prediksjonen $y=\\hat{\\alpha}+\\hat{\\beta}x$ der $x$ er målt hardhet? Begrunn svaret ditt.\n"
   ]
  },
  {
   "cell_type": "code",
   "execution_count": null,
   "id": "78f35c8e",
   "metadata": {},
   "outputs": [],
   "source": [
    "# Her kan du skrive python-kode for å gjøre beregningene du trenger for å besvare oppgaven\n",
    "\n"
   ]
  },
  {
   "cell_type": "markdown",
   "id": "9a8a689a",
   "metadata": {},
   "source": [
    "## Fasit\n",
    "- 1a: $L(a,\\sigma^2)=(2\\pi \\sigma^2)^{-n/2}\\exp\\left\\{-\\frac{1}{2}\\sum_{i=1}^n\\frac{(y_i-ax_i)^2}{\\sigma^2}\\right\\}$\n",
    "- 1b: $\\hat a$ er forventningsrett. $\\text{Var}[\\hat a]=\\frac{\\sigma^2}{\\sum_{i=1}^n x_i^2}$\n",
    "- 1c: $E[\\widehat\\sigma^2] = \\frac{n-1}{n}\\sigma^2$, $\\text{Var}[\\tilde{\\sigma}^2]=\\frac{2}{n-1} (\\sigma^2)^2$\n",
    "- 3b: $E[\\hat\\beta]=\\beta$, $\\text{Var}[\\hat\\beta]=\\frac{\\sigma^2}{\\sum^n_{i=1}x_i^2}$\n",
    "- 3d: $\\left[\\hat\\beta \\pm t_{n-1,\\alpha/2} \\sqrt{\\frac{n}{n-1}\\frac{\\widehat \\sigma^2}{\\sum^n_{i=1}x_i^2}}\\right]$\n",
    "- 4a: $\\hat\\alpha = \\bar Y - \\hat\\beta \\bar x $,   $\\hat\\beta = \\frac{\\sum_{i=1}^n (x_i - \\bar x) Y_i}{\\sum_{i=1}^n (x_i-\\bar x)^2}$,   $\\widehat\\sigma^2 = \\frac 1 n \\sum_{i=1}^n(Y_i-(\\hat\\alpha + \\hat\\beta x_i))^2  $\n",
    "- 4b: Forkast $H_0$.\n",
    "- 4c: $\\left[\\hat\\alpha+\\hat\\beta x_0 \\pm t_{n-2,\\alpha/2} \\sqrt{\\frac{n\\widehat\\sigma^2}{n-2}\\left(1+ \\frac 1 n + \\frac{(\\bar x - x_0)^2}{\\sum^n_{i=1}(x_i-\\bar x)^2}\\right)} \\right]$"
   ]
  }
 ],
 "metadata": {
  "kernelspec": {
   "display_name": "Python 3 (ipykernel)",
   "language": "python",
   "name": "python3"
  },
  "language_info": {
   "codemirror_mode": {
    "name": "ipython",
    "version": 3
   },
   "file_extension": ".py",
   "mimetype": "text/x-python",
   "name": "python",
   "nbconvert_exporter": "python",
   "pygments_lexer": "ipython3",
   "version": "3.11.8"
  }
 },
 "nbformat": 4,
 "nbformat_minor": 5
}
