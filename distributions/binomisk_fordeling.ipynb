{
 "cells": [
  {
   "cell_type": "markdown",
   "id": "08ce2b53-e793-45b9-bd1d-216f9b538b20",
   "metadata": {},
   "source": [
    "# Binomiske punktsannsynligheter og kumulative sannsynligheter\n",
    "\n",
    "Binomisk fordeling har følgende punktsannsynlighet:\n",
    "\n",
    "$\\text{Bin}(n, p) = \\binom{n}{x} p^x (1-p)^{n-x}$, for $x = 0, 1, \\dots, n$, og $0$ ellers."
   ]
  },
  {
   "cell_type": "code",
   "execution_count": 2,
   "id": "a90c3a61-2879-4aa8-8dcb-f1b8cf176ee7",
   "metadata": {},
   "outputs": [],
   "source": [
    "import numpy as np\n",
    "from scipy import stats # gir oss statistikk-funksjoner\n",
    "import matplotlib.pyplot as plt"
   ]
  },
  {
   "cell_type": "code",
   "execution_count": 3,
   "id": "cecb71e6-a57f-42a3-a7b8-f90ddd60629a",
   "metadata": {},
   "outputs": [],
   "source": [
    "# setter noen parameterverdier\n",
    "n = 10\n",
    "p = 0.2"
   ]
  },
  {
   "cell_type": "code",
   "execution_count": 4,
   "id": "7ef70946-d5f2-442c-bbd3-b63be2f7b72e",
   "metadata": {},
   "outputs": [
    {
     "data": {
      "text/plain": [
       "0.10737418240000011"
      ]
     },
     "execution_count": 4,
     "metadata": {},
     "output_type": "execute_result"
    }
   ],
   "source": [
    "# P(X = 0)\n",
    "stats.binom.pmf(0, n, p)"
   ]
  },
  {
   "cell_type": "code",
   "execution_count": 5,
   "id": "3f158b2e-66f9-40fc-86c8-1d127346b1a6",
   "metadata": {},
   "outputs": [
    {
     "data": {
      "text/plain": [
       "0.8791261183999999"
      ]
     },
     "execution_count": 5,
     "metadata": {},
     "output_type": "execute_result"
    }
   ],
   "source": [
    "# P(X <= 3)\n",
    "stats.binom.cdf(3, n, p)"
   ]
  },
  {
   "cell_type": "code",
   "execution_count": 6,
   "id": "18c475a2-8aac-49d4-b4c3-27526d013bae",
   "metadata": {},
   "outputs": [
    {
     "data": {
      "text/plain": [
       "array([0, 2, 2, 2, 0, 3, 3, 2, 4, 0, 4, 2, 2, 1, 3, 4, 1, 2, 1, 3, 0, 0,\n",
       "       3, 2, 1, 1, 2, 2, 2, 1, 3, 2, 1, 2, 3, 2, 3, 2, 1, 3, 4, 0, 1, 1,\n",
       "       1, 1, 3, 5, 2, 1, 6, 3, 1, 2, 0, 1, 4, 2, 3, 4, 5, 1, 1, 1, 3, 2,\n",
       "       2, 1, 3, 1, 1, 0, 1, 1, 4, 1, 1, 0, 3, 2, 1, 2, 1, 3, 1, 1, 1, 2,\n",
       "       3, 3, 2, 1, 3, 2, 2, 0, 0, 4, 0, 2])"
      ]
     },
     "execution_count": 6,
     "metadata": {},
     "output_type": "execute_result"
    }
   ],
   "source": [
    "# simulere:\n",
    "np.random.binomial(n, p, size = 100)"
   ]
  },
  {
   "cell_type": "code",
   "execution_count": null,
   "id": "e3214d25",
   "metadata": {},
   "outputs": [],
   "source": []
  }
 ],
 "metadata": {
  "kernelspec": {
   "display_name": "Python 3",
   "language": "python",
   "name": "python3"
  },
  "language_info": {
   "codemirror_mode": {
    "name": "ipython",
    "version": 3
   },
   "file_extension": ".py",
   "mimetype": "text/x-python",
   "name": "python",
   "nbconvert_exporter": "python",
   "pygments_lexer": "ipython3",
   "version": "3.11.8"
  }
 },
 "nbformat": 4,
 "nbformat_minor": 5
}
