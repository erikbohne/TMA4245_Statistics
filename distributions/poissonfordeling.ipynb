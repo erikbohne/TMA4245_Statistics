{
 "cells": [
  {
   "cell_type": "markdown",
   "id": "be58f24c-eaeb-473c-ba5e-3012e643ff55",
   "metadata": {},
   "source": [
    "# Poisson punktsannsynligheter og kumulative sannsynligheter\n",
    "\n",
    "Poissonfordeling har følgende punktsannsynlighet:\n",
    "\n",
    "$\\text{Poi}(\\mu) = \\frac{\\mu^x}{x!} e^{-\\mu}$, for $x = 0, 1, \\dots$, og $0$ ellers.\n",
    "\n",
    "Ofte setter vi $\\mu = \\lambda t$ der $t$ er et tidsintervall."
   ]
  },
  {
   "cell_type": "code",
   "execution_count": 1,
   "id": "91024ed5-c617-4bd1-9e94-b1779b15e8a9",
   "metadata": {},
   "outputs": [],
   "source": [
    "import numpy as np\n",
    "from scipy import stats # gir oss statistikk-funksjoner\n",
    "import matplotlib.pyplot as plt"
   ]
  },
  {
   "cell_type": "code",
   "execution_count": 2,
   "id": "1f46a008-1f88-4a8c-a0c7-897ef7ece4a6",
   "metadata": {},
   "outputs": [],
   "source": [
    "# setter noen parameterverdier\n",
    "mu = 4.5"
   ]
  },
  {
   "cell_type": "code",
   "execution_count": 3,
   "id": "f36ebecb-96fe-48dc-8b11-d270938c8b82",
   "metadata": {},
   "outputs": [
    {
     "data": {
      "text/plain": [
       "0.168717884924555"
      ]
     },
     "execution_count": 3,
     "metadata": {},
     "output_type": "execute_result"
    }
   ],
   "source": [
    "# P(X = 3)\n",
    "stats.poisson.pmf(3, mu)"
   ]
  },
  {
   "cell_type": "code",
   "execution_count": 4,
   "id": "d87fc4ef-5da7-495b-a74c-9be583aba4b0",
   "metadata": {},
   "outputs": [
    {
     "data": {
      "text/plain": [
       "0.34229595583459105"
      ]
     },
     "execution_count": 4,
     "metadata": {},
     "output_type": "execute_result"
    }
   ],
   "source": [
    "# P(X <= 3)\n",
    "stats.poisson.cdf(3, mu)"
   ]
  },
  {
   "cell_type": "code",
   "execution_count": 5,
   "id": "d6cbc3ac-c60e-4e2f-a746-b63f527815f3",
   "metadata": {},
   "outputs": [
    {
     "data": {
      "text/plain": [
       "array([ 8,  5,  4,  5,  6,  4,  6,  6,  5,  8,  4, 10,  5,  4,  4,  5,  4,\n",
       "        4,  5,  9,  4,  2,  2,  4,  2,  5,  5,  3,  2,  7,  5,  5,  6,  6,\n",
       "        6,  6,  3,  6,  4,  5,  8,  6,  3,  3,  5,  2,  9,  3,  4,  3,  5,\n",
       "        6,  4,  4,  8,  8,  3,  5,  2,  6,  9,  6,  7,  7,  6,  6,  3,  5,\n",
       "        5,  2,  4,  8,  2,  5,  3,  4,  6,  3,  4,  2,  7,  6,  4,  4,  6,\n",
       "        8,  7,  2,  6,  8,  7,  3,  3,  3,  3,  4,  4, 10,  4,  4])"
      ]
     },
     "execution_count": 5,
     "metadata": {},
     "output_type": "execute_result"
    }
   ],
   "source": [
    "# simulere:\n",
    "np.random.poisson(mu, size = 100)"
   ]
  },
  {
   "cell_type": "code",
   "execution_count": null,
   "id": "a25b8309-9c02-4eb1-b4a4-8a9a2000afaf",
   "metadata": {},
   "outputs": [],
   "source": []
  }
 ],
 "metadata": {
  "kernelspec": {
   "display_name": "Python 3",
   "language": "python",
   "name": "python3"
  },
  "language_info": {
   "codemirror_mode": {
    "name": "ipython",
    "version": 3
   },
   "file_extension": ".py",
   "mimetype": "text/x-python",
   "name": "python",
   "nbconvert_exporter": "python",
   "pygments_lexer": "ipython3",
   "version": "3.11.8"
  }
 },
 "nbformat": 4,
 "nbformat_minor": 5
}
