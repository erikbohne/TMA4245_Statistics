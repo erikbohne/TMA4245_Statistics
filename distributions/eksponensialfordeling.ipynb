{
 "cells": [
  {
   "cell_type": "markdown",
   "id": "03bb9bb3-357a-475f-a654-09863acb5915",
   "metadata": {},
   "source": [
    "# Eksponensialfordeling, sannsynlighetstetthet og kumulativ sannsynlighetsfordeling\n",
    "\n",
    "Eksponensialfordelingen har følgende sannsynlighetstetthet:\n",
    "\n",
    "$\\text{Exp}(\\lambda) = \\lambda e^{-\\lambda t}, \\ t \\geq 0$ og $0$ ellers.\n",
    "\n",
    "Merk at det ofte også brukes $\\lambda = 1/\\beta$. "
   ]
  },
  {
   "cell_type": "code",
   "execution_count": 2,
   "id": "50101dbb-72bf-4d09-a0b8-a523f12becb1",
   "metadata": {},
   "outputs": [],
   "source": [
    "import numpy as np\n",
    "from scipy import stats # gir oss statistikk-funksjoner\n",
    "import matplotlib.pyplot as plt"
   ]
  },
  {
   "cell_type": "code",
   "execution_count": 3,
   "id": "b2c23b5c-e4ba-4aa6-bc65-03ae29363e9f",
   "metadata": {},
   "outputs": [],
   "source": [
    "# setter noen parameterverdier\n",
    "lam = 1.7"
   ]
  },
  {
   "cell_type": "code",
   "execution_count": 4,
   "id": "6e9fedc0-3e6f-4128-99fa-54882f464a5e",
   "metadata": {},
   "outputs": [
    {
     "data": {
      "text/plain": [
       "0.3105619908896489"
      ]
     },
     "execution_count": 4,
     "metadata": {},
     "output_type": "execute_result"
    }
   ],
   "source": [
    "# f(1), IKKE det samme som P(X = 1), og ikke så nyttig, så lenge X er kontinuerlig\n",
    "stats.expon.pdf(1, scale = 1/lam)"
   ]
  },
  {
   "cell_type": "code",
   "execution_count": 5,
   "id": "b9e5bb49-2ce6-42de-a093-d95b2d990744",
   "metadata": {},
   "outputs": [
    {
     "data": {
      "text/plain": [
       "0.9219183339988468"
      ]
     },
     "execution_count": 5,
     "metadata": {},
     "output_type": "execute_result"
    }
   ],
   "source": [
    "# P(X <= 1.5) = F(1.5)\n",
    "stats.expon.cdf(1.5, scale = 1/lam)"
   ]
  },
  {
   "cell_type": "code",
   "execution_count": 6,
   "id": "1b60c532-fbfc-479c-b20f-5d57f9e2a8ab",
   "metadata": {},
   "outputs": [
    {
     "data": {
      "text/plain": [
       "array([0.23583276, 0.32671373, 0.13469376, 0.43233839, 0.42645403,\n",
       "       0.51368108, 0.64793963, 0.67791949, 1.42292959, 0.12615818,\n",
       "       1.39395863, 0.12157828, 0.21022388, 0.66767043, 0.22735694,\n",
       "       0.96597763, 2.14220643, 0.38686296, 0.86580363, 0.52095335,\n",
       "       0.70192415, 0.19875619, 1.05271824, 0.58807983, 0.35429823,\n",
       "       0.605058  , 0.00654708, 0.07217219, 0.27795738, 1.12736109,\n",
       "       0.40218474, 0.03804164, 0.50810377, 0.58809572, 0.24450502,\n",
       "       0.5768109 , 0.66425957, 0.19920869, 1.1550086 , 0.36164868,\n",
       "       0.48463239, 0.33795749, 0.16075101, 0.68468522, 0.24838589,\n",
       "       0.19163113, 0.10781419, 0.71533081, 0.5893603 , 0.51014968,\n",
       "       0.34186038, 0.06439952, 1.23390225, 0.69065818, 0.0688124 ,\n",
       "       1.01935142, 1.63785883, 1.82761208, 1.22243091, 2.22255532,\n",
       "       0.42140007, 1.12904537, 0.02327476, 1.07779081, 0.16689954,\n",
       "       1.06483552, 0.39705623, 0.86581142, 1.80197618, 0.25769299,\n",
       "       0.30593722, 0.69800906, 0.99933734, 0.54622651, 0.04085338,\n",
       "       1.12665009, 0.00506148, 1.15973445, 0.31146244, 0.44461498,\n",
       "       1.52957858, 2.12449002, 0.27164252, 0.08398929, 0.9613516 ,\n",
       "       0.40948399, 0.07172023, 0.93653381, 0.17330318, 0.89574571,\n",
       "       0.58926352, 0.92294847, 0.54510972, 0.60629668, 1.57635196,\n",
       "       0.07188591, 0.01869778, 0.45991878, 0.49374796, 1.41441525])"
      ]
     },
     "execution_count": 6,
     "metadata": {},
     "output_type": "execute_result"
    }
   ],
   "source": [
    "# simulere:\n",
    "np.random.exponential(scale = 1/lam, size = 100)"
   ]
  }
 ],
 "metadata": {
  "kernelspec": {
   "display_name": "Python 3",
   "language": "python",
   "name": "python3"
  },
  "language_info": {
   "codemirror_mode": {
    "name": "ipython",
    "version": 3
   },
   "file_extension": ".py",
   "mimetype": "text/x-python",
   "name": "python",
   "nbconvert_exporter": "python",
   "pygments_lexer": "ipython3",
   "version": "3.11.8"
  }
 },
 "nbformat": 4,
 "nbformat_minor": 5
}
