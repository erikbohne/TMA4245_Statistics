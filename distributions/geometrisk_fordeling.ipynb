{
 "cells": [
  {
   "cell_type": "markdown",
   "id": "9face0ab-73fd-47e4-bb46-48b89982922e",
   "metadata": {},
   "source": [
    "# Geometriske punktsannsynligheter og kumulative sannsynligheter\n",
    "\n",
    "Geometrisk fordeling har følgende punktsannsynlighet:\n",
    "\n",
    "$\\text{Geom}(p) = p(1-p)^{x-1}$, for $x = 1, 2, \\dots$, og $0$ ellers."
   ]
  },
  {
   "cell_type": "code",
   "execution_count": 1,
   "id": "19f12066-3e4a-4b99-a9d9-73b60c97317f",
   "metadata": {},
   "outputs": [],
   "source": [
    "import numpy as np\n",
    "from scipy import stats # gir oss statistikk-funksjoner\n",
    "import matplotlib.pyplot as plt"
   ]
  },
  {
   "cell_type": "code",
   "execution_count": 2,
   "id": "4e07ea2a-8ffe-484d-bebc-e3f952d6e15f",
   "metadata": {},
   "outputs": [],
   "source": [
    "# setter noen parameterverdier\n",
    "p = 0.2"
   ]
  },
  {
   "cell_type": "code",
   "execution_count": 3,
   "id": "c5265555-a06c-4ae7-a30e-e519d7c82226",
   "metadata": {},
   "outputs": [
    {
     "data": {
      "text/plain": [
       "0.16000000000000003"
      ]
     },
     "execution_count": 3,
     "metadata": {},
     "output_type": "execute_result"
    }
   ],
   "source": [
    "# P(X = 2)\n",
    "stats.geom.pmf(2, p)"
   ]
  },
  {
   "cell_type": "code",
   "execution_count": 4,
   "id": "d6ab086e-c093-43d3-b887-bb352a15c423",
   "metadata": {},
   "outputs": [
    {
     "data": {
      "text/plain": [
       "0.48800000000000004"
      ]
     },
     "execution_count": 4,
     "metadata": {},
     "output_type": "execute_result"
    }
   ],
   "source": [
    "# P(X <= 3)\n",
    "stats.geom.cdf(3, p)"
   ]
  },
  {
   "cell_type": "code",
   "execution_count": 5,
   "id": "5bcf03fd-7e39-43ab-ab90-3f38d557aa00",
   "metadata": {},
   "outputs": [
    {
     "data": {
      "text/plain": [
       "array([ 5,  3,  7,  3,  1,  8,  6, 15, 12,  1,  1,  3,  1,  3,  6,  1,  2,\n",
       "        1, 24,  6,  3,  5,  4,  2,  2,  1,  3,  1,  2,  2,  2, 10,  1,  3,\n",
       "       12,  5,  2,  1,  3,  1,  2,  7,  1,  6,  4,  6,  6,  7, 27,  1,  5,\n",
       "        1,  3,  1,  8,  7,  5,  4,  3,  4,  6,  3,  3,  3,  8,  3,  2, 11,\n",
       "        4,  3,  6, 12,  5,  4,  1,  4,  1,  7,  5,  7,  1,  3,  1,  6,  1,\n",
       "        4,  4,  1,  3,  2, 10,  1,  2,  1,  8,  1,  5, 11, 15,  1])"
      ]
     },
     "execution_count": 5,
     "metadata": {},
     "output_type": "execute_result"
    }
   ],
   "source": [
    "# simulere:\n",
    "np.random.geometric(p, size = 100)"
   ]
  },
  {
   "cell_type": "code",
   "execution_count": null,
   "id": "2780ed54-6059-4eca-856d-e491df0493b5",
   "metadata": {},
   "outputs": [],
   "source": []
  }
 ],
 "metadata": {
  "kernelspec": {
   "display_name": "Python 3",
   "language": "python",
   "name": "python3"
  },
  "language_info": {
   "codemirror_mode": {
    "name": "ipython",
    "version": 3
   },
   "file_extension": ".py",
   "mimetype": "text/x-python",
   "name": "python",
   "nbconvert_exporter": "python",
   "pygments_lexer": "ipython3",
   "version": "3.11.8"
  }
 },
 "nbformat": 4,
 "nbformat_minor": 5
}
