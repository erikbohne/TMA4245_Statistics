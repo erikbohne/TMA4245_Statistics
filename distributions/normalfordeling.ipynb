{
 "cells": [
  {
   "cell_type": "markdown",
   "id": "30c49e41-7104-4c4a-a4f6-d7662eb3b99b",
   "metadata": {},
   "source": [
    "# Normalfordeling, sannsynlighetstetthet og kumulativ sannsynlighetsfordeling\n",
    "\n",
    "Normalfordelingen har følgende sannsynlighetstetthet:\n",
    "\n",
    "$\\text{N}(\\mu, \\sigma) = \\frac{1}{\\sqrt{2 \\pi} \\sigma} \\exp\\left(-\\frac{1}{2}\\frac{(x-\\mu)^2}{\\sigma^2} \\right), \\ -\\infty < x < \\infty.$"
   ]
  },
  {
   "cell_type": "code",
   "execution_count": 1,
   "id": "59a4ee2e-b489-4656-a4d0-e2bbae6e2788",
   "metadata": {},
   "outputs": [],
   "source": [
    "import numpy as np\n",
    "from scipy import stats # gir oss statistikk-funksjoner\n",
    "import matplotlib.pyplot as plt"
   ]
  },
  {
   "cell_type": "code",
   "execution_count": 2,
   "id": "52db9eb4-f2a2-4dde-a547-e3a8165b6bfb",
   "metadata": {},
   "outputs": [],
   "source": [
    "# setter noen parameterverdier\n",
    "mu = 2\n",
    "sigma = 0.5"
   ]
  },
  {
   "cell_type": "code",
   "execution_count": 3,
   "id": "6dc01caa-a346-491d-8195-f3bbb5d8eb79",
   "metadata": {},
   "outputs": [
    {
     "data": {
      "text/plain": [
       "0.10798193302637613"
      ]
     },
     "execution_count": 3,
     "metadata": {},
     "output_type": "execute_result"
    }
   ],
   "source": [
    "# f(1), IKKE det samme som P(X = 1), og ikke så nyttig, så lenge X er kontinuerlig\n",
    "stats.norm.pdf(1, mu, sigma)"
   ]
  },
  {
   "cell_type": "code",
   "execution_count": 4,
   "id": "468911f8-aa6e-4415-80b4-910c65284a29",
   "metadata": {},
   "outputs": [
    {
     "data": {
      "text/plain": [
       "0.15865525393145707"
      ]
     },
     "execution_count": 4,
     "metadata": {},
     "output_type": "execute_result"
    }
   ],
   "source": [
    "# P(X <= 1.5) = F(1.5)\n",
    "stats.norm.cdf(1.5, mu, sigma)"
   ]
  },
  {
   "cell_type": "code",
   "execution_count": 5,
   "id": "4d55d917-dfe2-4276-8565-a05c4b812b5a",
   "metadata": {},
   "outputs": [
    {
     "data": {
      "text/plain": [
       "2.0"
      ]
     },
     "execution_count": 5,
     "metadata": {},
     "output_type": "execute_result"
    }
   ],
   "source": [
    "# P(X <= x_a) = 0.5, returnerer x_a\n",
    "stats.norm.ppf(0.5, mu, sigma)"
   ]
  },
  {
   "cell_type": "code",
   "execution_count": 6,
   "id": "ba6a6f04-62f2-43b4-a204-1f19fee7bc74",
   "metadata": {},
   "outputs": [
    {
     "data": {
      "text/plain": [
       "array([2.47038462, 2.01828128, 1.95314065, 2.78722767, 1.85973169,\n",
       "       1.88023999, 2.65396648, 1.57892958, 2.60192452, 2.30832647,\n",
       "       2.13601484, 2.22075701, 1.99111827, 2.42846843, 1.08797231,\n",
       "       2.18055022, 2.75236312, 1.6793295 , 2.20970374, 1.91090705,\n",
       "       2.60444412, 2.54502771, 0.7070102 , 1.30108398, 2.29236953,\n",
       "       2.71664142, 1.86211312, 2.09290756, 1.37466871, 1.51862799,\n",
       "       2.7310922 , 2.29810475, 2.12765754, 2.09088105, 1.23697904,\n",
       "       2.21073768, 2.04269564, 1.94728179, 2.49939498, 1.94830424,\n",
       "       3.01569566, 1.45493232, 2.11488886, 2.26671637, 2.12543964,\n",
       "       0.67263819, 2.30493073, 2.09011632, 2.86632425, 1.76295527,\n",
       "       1.72645763, 0.91104366, 2.67951996, 1.62619032, 2.13210446,\n",
       "       1.89898629, 1.92564095, 2.17298885, 1.09915306, 2.34570355,\n",
       "       1.81735167, 2.80972203, 1.60252913, 2.09207407, 2.12297053,\n",
       "       1.73486941, 1.86133932, 2.69441573, 1.72171198, 1.9291599 ,\n",
       "       0.74266324, 2.13002817, 1.52618657, 2.02958033, 1.69625554,\n",
       "       2.64142783, 2.28762762, 2.47744064, 1.83321732, 1.57134952,\n",
       "       2.81336961, 2.12881553, 2.39843233, 1.84316101, 1.96819963,\n",
       "       1.73973051, 2.2981272 , 2.10618482, 2.18585124, 1.94128176,\n",
       "       1.45799778, 2.03240213, 2.15841402, 2.49499744, 1.71206781,\n",
       "       2.25812984, 1.05777285, 2.18826866, 1.79754945, 1.80023341])"
      ]
     },
     "execution_count": 6,
     "metadata": {},
     "output_type": "execute_result"
    }
   ],
   "source": [
    "# simulere:\n",
    "np.random.normal(mu, sigma, size = 100)"
   ]
  },
  {
   "cell_type": "code",
   "execution_count": null,
   "id": "52fa779a-23b2-4f88-80af-f19df3879e86",
   "metadata": {},
   "outputs": [],
   "source": []
  }
 ],
 "metadata": {
  "kernelspec": {
   "display_name": "Python 3",
   "language": "python",
   "name": "python3"
  },
  "language_info": {
   "codemirror_mode": {
    "name": "ipython",
    "version": 3
   },
   "file_extension": ".py",
   "mimetype": "text/x-python",
   "name": "python",
   "nbconvert_exporter": "python",
   "pygments_lexer": "ipython3",
   "version": "3.11.8"
  }
 },
 "nbformat": 4,
 "nbformat_minor": 5
}
