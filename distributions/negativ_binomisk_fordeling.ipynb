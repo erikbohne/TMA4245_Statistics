{
 "cells": [
  {
   "cell_type": "markdown",
   "id": "39f9e23e-17df-42d9-ac11-db4c3a38b4cf",
   "metadata": {},
   "source": [
    "# Negativ binomisk punktsannsynligheter og kumulative sannsynligheter\n",
    "\n",
    "Negativ binomisk fordeling har følgende punktsannsynlighet:\n",
    "\n",
    "$\\text{NegBin}(k, p) = \\binom{x-1}{k-1} p^k (1-p)^{x-k}$, for $x = k, k+1, \\dots, n$, og $0$ ellers.\n",
    "\n",
    "Kumulativ fordeling har ikke et enkelt uttrykk."
   ]
  },
  {
   "cell_type": "code",
   "execution_count": 1,
   "id": "071997ca-e4fe-4b41-bd0b-0b66c11dd791",
   "metadata": {},
   "outputs": [],
   "source": [
    "import numpy as np\n",
    "from scipy import stats # gir oss statistikk-funksjoner\n",
    "import matplotlib.pyplot as plt"
   ]
  },
  {
   "cell_type": "code",
   "execution_count": 2,
   "id": "828cf554-0960-424d-9ae3-2a6b74bac935",
   "metadata": {},
   "outputs": [],
   "source": [
    "# setter noen parameterverdier\n",
    "k = 4\n",
    "p = 0.5"
   ]
  },
  {
   "cell_type": "code",
   "execution_count": 3,
   "id": "f77b9d21-4969-4da5-81c6-71ad002de743",
   "metadata": {},
   "outputs": [
    {
     "data": {
      "text/plain": [
       "0.05859375000000002"
      ]
     },
     "execution_count": 3,
     "metadata": {},
     "output_type": "execute_result"
    }
   ],
   "source": [
    "# P(X = 7)\n",
    "stats.nbinom.pmf(7, k, p)"
   ]
  },
  {
   "cell_type": "code",
   "execution_count": 4,
   "id": "4d8144fa-38f8-44d0-a7d1-03bc71093d4a",
   "metadata": {},
   "outputs": [
    {
     "data": {
      "text/plain": [
       "0.74609375"
      ]
     },
     "execution_count": 4,
     "metadata": {},
     "output_type": "execute_result"
    }
   ],
   "source": [
    "# P(X <= 5)\n",
    "stats.nbinom.cdf(5, k, p)"
   ]
  },
  {
   "cell_type": "code",
   "execution_count": 5,
   "id": "736411f4-28c5-46cf-8ce6-440abe2ec2d0",
   "metadata": {},
   "outputs": [
    {
     "data": {
      "text/plain": [
       "array([ 1,  1,  1,  2,  4,  2,  5,  2,  5, 12,  3,  6,  2, 10,  3,  3,  1,\n",
       "        5,  6,  7,  5,  4,  1,  5,  2,  2,  0,  2, 16,  2,  0,  2,  0,  4,\n",
       "        2,  5,  6,  3,  8,  1,  4,  0,  0,  5,  4,  2,  3,  1,  4,  5,  3,\n",
       "        3,  8,  1,  3,  5,  2,  2,  1,  3,  2,  3,  3,  2,  2,  1, 11,  1,\n",
       "        2,  3,  6,  1,  2,  8,  4,  6,  5,  6,  4,  6,  5,  5,  9,  3,  0,\n",
       "        1,  0,  2,  2,  3,  3, 12,  6,  7,  2,  5,  7,  5, 12,  0])"
      ]
     },
     "execution_count": 5,
     "metadata": {},
     "output_type": "execute_result"
    }
   ],
   "source": [
    "# simulere:\n",
    "np.random.negative_binomial(k, p, size = 100)"
   ]
  },
  {
   "cell_type": "code",
   "execution_count": null,
   "id": "aa1070a4-c887-49eb-be60-888d3eb3d36c",
   "metadata": {},
   "outputs": [],
   "source": []
  }
 ],
 "metadata": {
  "kernelspec": {
   "display_name": "Python 3",
   "language": "python",
   "name": "python3"
  },
  "language_info": {
   "codemirror_mode": {
    "name": "ipython",
    "version": 3
   },
   "file_extension": ".py",
   "mimetype": "text/x-python",
   "name": "python",
   "nbconvert_exporter": "python",
   "pygments_lexer": "ipython3",
   "version": "3.11.8"
  }
 },
 "nbformat": 4,
 "nbformat_minor": 5
}
