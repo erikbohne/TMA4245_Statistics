{
 "cells": [
  {
   "cell_type": "markdown",
   "id": "19df2746-5840-464c-bdfa-74eebd53c506",
   "metadata": {},
   "source": [
    "# $\\chi^2$-fordeling, sannsynlighetstetthet og kumulativ sannsynlighetsfordeling\n",
    "\n",
    "$\\chi^2$-fordelingen (kjikvadratfordelingen) har følgende sannsynlighetstetthet:\n",
    "\n",
    "$\\chi_{\\nu}^2 = \\frac{1}{2^{\\nu/2} \\Gamma(\\nu/2)} x^{\\nu/2-1} e^{-x/2}, \\ x \\geq 0, \\ \\nu = 1, 2, \\dots$"
   ]
  },
  {
   "cell_type": "code",
   "execution_count": 1,
   "id": "5360f486-b420-47c8-9f4c-b26e761bf043",
   "metadata": {},
   "outputs": [],
   "source": [
    "import numpy as np\n",
    "from scipy import stats # gir oss statistikk-funksjoner\n",
    "import matplotlib.pyplot as plt"
   ]
  },
  {
   "cell_type": "code",
   "execution_count": 2,
   "id": "d4dc426b-113e-460f-b206-f8f3d417e5d0",
   "metadata": {},
   "outputs": [],
   "source": [
    "# setter noen parameterverdier\n",
    "nu = 17"
   ]
  },
  {
   "cell_type": "code",
   "execution_count": 3,
   "id": "a8d3fa83-f3f1-4afd-88a0-df545b268cb6",
   "metadata": {},
   "outputs": [
    {
     "data": {
      "text/plain": [
       "0.041935183840951025"
      ]
     },
     "execution_count": 3,
     "metadata": {},
     "output_type": "execute_result"
    }
   ],
   "source": [
    "# f(10), IKKE det samme som P(X = 10), og ikke så nyttig, så lenge X er kontinuerlig\n",
    "stats.chi2.pdf(10, nu)"
   ]
  },
  {
   "cell_type": "code",
   "execution_count": 4,
   "id": "1fd0fe6e-b317-4e2c-b243-c746ca9f048c",
   "metadata": {},
   "outputs": [
    {
     "data": {
      "text/plain": [
       "0.725770732892053"
      ]
     },
     "execution_count": 4,
     "metadata": {},
     "output_type": "execute_result"
    }
   ],
   "source": [
    "# P(X <= 20) = F(20)\n",
    "stats.chi2.cdf(20, nu)"
   ]
  },
  {
   "cell_type": "code",
   "execution_count": 5,
   "id": "3bf3b608-8bfb-4fab-a263-d01f455f30a7",
   "metadata": {},
   "outputs": [
    {
     "data": {
      "text/plain": [
       "8.671760204670077"
      ]
     },
     "execution_count": 5,
     "metadata": {},
     "output_type": "execute_result"
    }
   ],
   "source": [
    "# P(X <= x_a) = 0.05, returnerer x_a\n",
    "stats.chi2.ppf(0.05, nu)"
   ]
  },
  {
   "cell_type": "code",
   "execution_count": 6,
   "id": "a1f32692-014e-4904-978b-b17efa9c4c5f",
   "metadata": {},
   "outputs": [
    {
     "data": {
      "text/plain": [
       "array([ 9.40819156, 11.67198761,  9.59190003, 17.29191978, 15.04519831,\n",
       "        6.76723129, 17.15671926, 17.71406845, 20.31150909, 16.89123523,\n",
       "       26.57462445, 25.3297039 , 17.50973528, 19.96814435, 14.92481702,\n",
       "       17.51045776, 30.07197736, 16.36919406, 12.6841029 , 18.26661834,\n",
       "       15.5669645 , 19.02999603, 15.96708317, 27.30474303, 11.43200089,\n",
       "       15.48106671,  8.63550668, 20.19713852, 14.1826036 , 12.3059605 ,\n",
       "       21.65396918, 22.32280587, 20.66783345, 10.61641566, 28.8639207 ,\n",
       "       15.36737579, 20.11770296, 18.50781987, 26.1040666 , 17.84809933,\n",
       "       15.97222046, 15.84278447, 13.85147005, 15.62184767, 13.93478436,\n",
       "       19.32807749, 26.09734985, 21.42229132, 14.97175604, 17.16537959,\n",
       "       21.73040944, 19.51357288, 17.09321405, 12.62201543, 15.33923329,\n",
       "       19.63427612, 18.80719308, 14.99684884, 19.94007682, 28.21375551,\n",
       "       17.67395794, 16.56539027, 15.54154613, 11.3952921 , 17.11077762,\n",
       "       22.56415077, 16.5812935 , 38.62583725, 26.9835196 , 15.65654558,\n",
       "       22.06488298, 11.2727295 , 23.82893567,  8.63095998,  9.40671662,\n",
       "       12.58500156, 23.51052596, 19.74910692, 15.46780581, 14.79556704,\n",
       "       18.95962622, 12.90471637, 20.94363865, 31.43655252, 23.24273991,\n",
       "       16.32629407, 21.49903027, 20.9209266 , 25.01703053, 12.49881177,\n",
       "       24.28821803, 17.71655027, 18.11735639, 19.45790411, 14.88086316,\n",
       "       22.74551538, 23.35908382, 18.99451519, 18.75865833, 23.84599165])"
      ]
     },
     "execution_count": 6,
     "metadata": {},
     "output_type": "execute_result"
    }
   ],
   "source": [
    "# simulere:\n",
    "np.random.chisquare(nu, size = 100)"
   ]
  },
  {
   "cell_type": "code",
   "execution_count": null,
   "id": "2465e7c0-bfc9-40bd-8c93-77595c53e413",
   "metadata": {},
   "outputs": [],
   "source": []
  }
 ],
 "metadata": {
  "kernelspec": {
   "display_name": "Python 3",
   "language": "python",
   "name": "python3"
  },
  "language_info": {
   "codemirror_mode": {
    "name": "ipython",
    "version": 3
   },
   "file_extension": ".py",
   "mimetype": "text/x-python",
   "name": "python",
   "nbconvert_exporter": "python",
   "pygments_lexer": "ipython3",
   "version": "3.11.8"
  }
 },
 "nbformat": 4,
 "nbformat_minor": 5
}
