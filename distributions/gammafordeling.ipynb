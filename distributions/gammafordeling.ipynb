{
 "cells": [
  {
   "cell_type": "markdown",
   "id": "44bc8944-2fb6-4f51-8303-99098304f6b8",
   "metadata": {},
   "source": [
    "# Gammafordeling, sannsynlighetstetthet og kumulativ sannsynlighetsfordeling\n",
    "\n",
    "Gammafordelingen har følgende sannsynlighetstetthet:\n",
    "\n",
    "$\\text{Gamma}(\\alpha, \\beta) = \\frac{1}{\\beta^{\\alpha} \\Gamma(\\alpha)} x^{\\alpha-1}e^{-x/\\beta}, \\ x \\geq 0$ og $0$ ellers."
   ]
  },
  {
   "cell_type": "code",
   "execution_count": 1,
   "id": "d215c167-b993-4365-98e8-fca5cbdacf7c",
   "metadata": {},
   "outputs": [],
   "source": [
    "import numpy as np\n",
    "from scipy import stats # gir oss statistikk-funksjoner\n",
    "import matplotlib.pyplot as plt"
   ]
  },
  {
   "cell_type": "code",
   "execution_count": 2,
   "id": "9e751a39-05a3-49bf-ae78-177437d058e4",
   "metadata": {},
   "outputs": [],
   "source": [
    "# setter noen parameterverdier\n",
    "alpha = 1.2\n",
    "beta = 3"
   ]
  },
  {
   "cell_type": "code",
   "execution_count": 3,
   "id": "0641415c-db04-4e3e-b63a-7f8bb4d6daa0",
   "metadata": {},
   "outputs": [
    {
     "data": {
      "text/plain": [
       "0.2088176304051953"
      ]
     },
     "execution_count": 3,
     "metadata": {},
     "output_type": "execute_result"
    }
   ],
   "source": [
    "# f(1), IKKE det samme som P(X = 1), og ikke så nyttig, så lenge X er kontinuerlig\n",
    "stats.gamma.pdf(1, alpha, scale = beta)"
   ]
  },
  {
   "cell_type": "code",
   "execution_count": 4,
   "id": "49aa963f-15ee-40c7-83dc-71d8ae8903f4",
   "metadata": {},
   "outputs": [
    {
     "data": {
      "text/plain": [
       "0.3037001402415431"
      ]
     },
     "execution_count": 4,
     "metadata": {},
     "output_type": "execute_result"
    }
   ],
   "source": [
    "# P(X <= 1.5) = F(1.5)\n",
    "stats.gamma.cdf(1.5, alpha, scale = beta)"
   ]
  },
  {
   "cell_type": "code",
   "execution_count": 5,
   "id": "6049d7fe-1034-40ed-86b1-7631c73d49ce",
   "metadata": {},
   "outputs": [
    {
     "data": {
      "text/plain": [
       "array([ 5.38275219,  4.29515033,  2.46849837,  4.09246507,  5.58607064,\n",
       "        1.63345836,  2.70915507,  0.54226085,  0.87652781,  0.23410091,\n",
       "        0.61691119,  0.66410223,  0.0830008 ,  2.29133731,  1.46135792,\n",
       "        4.0775228 ,  3.83724323,  0.82423811, 21.26047306,  3.75066318,\n",
       "        1.3507972 ,  5.94842959,  0.31787306,  2.8618234 ,  3.90080413,\n",
       "        0.80770328,  0.05642154,  1.30500757,  3.36181257,  2.90318379,\n",
       "        1.39958108,  0.13293635,  5.63335041,  0.94622588,  1.30321891,\n",
       "        4.88727426,  3.71583378,  4.15431416,  9.34886063,  4.26717016,\n",
       "        9.60837223,  0.56877333,  1.74412913, 15.337264  ,  2.84357596,\n",
       "        3.08592376,  3.73858117,  2.9172331 ,  1.21539703,  0.69764596,\n",
       "        7.75106581,  6.8140395 ,  1.97353394,  9.57667729,  0.18230283,\n",
       "        0.31783248,  0.37016893,  1.55656499,  4.30208055,  4.1432843 ,\n",
       "        9.27072803,  4.00189363,  4.02312811,  6.5999331 ,  3.47726266,\n",
       "        3.89986799,  6.62301508,  0.22302673,  1.015127  ,  9.50310224,\n",
       "        1.28507734,  5.28658534,  4.15641529,  3.06743209,  5.26151503,\n",
       "       15.99533188,  3.00755562,  1.06747961,  6.90089091,  5.5297941 ,\n",
       "        2.12464789,  2.0442886 ,  1.10620254,  1.13896305,  4.39559884,\n",
       "        3.1489166 ,  1.44400469,  6.05917503,  2.61848572,  1.82597908,\n",
       "        7.29673277,  0.09749309,  2.65446273,  1.2226828 ,  3.98510301,\n",
       "        3.6427523 ,  3.74992001,  2.14128924,  0.57008096,  5.11529143])"
      ]
     },
     "execution_count": 5,
     "metadata": {},
     "output_type": "execute_result"
    }
   ],
   "source": [
    "# simulere:\n",
    "np.random.gamma(alpha, scale = beta, size = 100)"
   ]
  },
  {
   "cell_type": "code",
   "execution_count": null,
   "id": "ae32b4f4-c584-4e7e-8d7a-7631258f1c86",
   "metadata": {},
   "outputs": [],
   "source": []
  }
 ],
 "metadata": {
  "kernelspec": {
   "display_name": "Python 3",
   "language": "python",
   "name": "python3"
  },
  "language_info": {
   "codemirror_mode": {
    "name": "ipython",
    "version": 3
   },
   "file_extension": ".py",
   "mimetype": "text/x-python",
   "name": "python",
   "nbconvert_exporter": "python",
   "pygments_lexer": "ipython3",
   "version": "3.11.8"
  }
 },
 "nbformat": 4,
 "nbformat_minor": 5
}
