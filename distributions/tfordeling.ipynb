{
 "cells": [
  {
   "cell_type": "markdown",
   "id": "80430dd0-2abe-46ca-976a-fca83e891125",
   "metadata": {},
   "source": [
    "# $t$-fordeling, sannsynlighetstetthet og kumulativ sannsynlighetsfordeling\n",
    "\n",
    "$t$-fordelingen har følgende sannsynlighetstetthet:\n",
    "\n",
    "$t_{\\nu} = \\frac{\\Gamma[(\\nu+1)/2]}{\\Gamma(\\nu/2) \\sqrt{\\pi \\nu}} \\left( 1+ \\frac{x^2}{nu} \\right)^{-(\\nu+1)/2}, \\ - \\infty < x < \\infty$"
   ]
  },
  {
   "cell_type": "code",
   "execution_count": 1,
   "id": "acc7327d-e0f9-4fdf-91e2-87e03867fe85",
   "metadata": {},
   "outputs": [],
   "source": [
    "import numpy as np\n",
    "from scipy import stats # gir oss statistikk-funksjoner\n",
    "import matplotlib.pyplot as plt"
   ]
  },
  {
   "cell_type": "code",
   "execution_count": 2,
   "id": "1e4d8c06-0114-4f00-9933-f4b00d270766",
   "metadata": {},
   "outputs": [],
   "source": [
    "# setter noen parameterverdier\n",
    "nu = 17"
   ]
  },
  {
   "cell_type": "code",
   "execution_count": 3,
   "id": "9c24bb11-56c1-4bca-988b-d3966f20e558",
   "metadata": {},
   "outputs": [
    {
     "data": {
      "text/plain": [
       "0.2350253980032895"
      ]
     },
     "execution_count": 3,
     "metadata": {},
     "output_type": "execute_result"
    }
   ],
   "source": [
    "# f(1), IKKE det samme som P(X = 1), og ikke så nyttig, så lenge X er kontinuerlig\n",
    "stats.t.pdf(1, nu)"
   ]
  },
  {
   "cell_type": "code",
   "execution_count": 4,
   "id": "dee6900b-d86b-4d77-88c1-27104646c07d",
   "metadata": {},
   "outputs": [
    {
     "data": {
      "text/plain": [
       "0.9691306967349403"
      ]
     },
     "execution_count": 4,
     "metadata": {},
     "output_type": "execute_result"
    }
   ],
   "source": [
    "# P(X <= 2) = F(2)\n",
    "stats.t.cdf(2, nu)"
   ]
  },
  {
   "cell_type": "code",
   "execution_count": 5,
   "id": "6878f741-658a-4842-a1d6-399155388a5e",
   "metadata": {},
   "outputs": [
    {
     "data": {
      "text/plain": [
       "-1.7396067260750676"
      ]
     },
     "execution_count": 5,
     "metadata": {},
     "output_type": "execute_result"
    }
   ],
   "source": [
    "# P(X <= x_a) = 0.05, returnerer x_a\n",
    "stats.t.ppf(0.05, nu)"
   ]
  },
  {
   "cell_type": "code",
   "execution_count": 6,
   "id": "3e5f75f5-08fc-4d52-84d4-15338aa2bd4a",
   "metadata": {},
   "outputs": [
    {
     "data": {
      "text/plain": [
       "array([ 0.62413708,  0.7324686 , -0.94140395,  1.14418921,  0.59762365,\n",
       "       -0.87662014, -1.17735422, -0.97169712,  1.4752247 , -0.23805403,\n",
       "        1.44269016, -0.18443554, -0.81409018,  0.04626096, -0.71064836,\n",
       "       -0.44924386,  2.53455216, -1.49476582,  0.47724075, -0.05749348,\n",
       "        0.98934173,  1.0194125 , -0.35206028,  0.78387764,  0.81099979,\n",
       "        0.63851217, -0.38942236, -0.02330401, -0.85278203, -1.14898437,\n",
       "        0.66222367, -1.16311548,  1.57738411, -2.02280378, -0.03441045,\n",
       "        1.77161466, -3.85674188,  0.37894702, -0.68565113,  1.59986366,\n",
       "       -0.57629131,  1.44968966, -1.59229849, -2.37917149,  1.30188116,\n",
       "       -0.02519092, -0.14799543, -0.9270647 , -0.72960049,  1.20286885,\n",
       "        0.13242395, -0.23053569, -1.20145544, -1.09046881,  0.89738023,\n",
       "       -0.13358937,  0.25350397,  0.32360459,  0.71750696, -0.93517747,\n",
       "       -1.05593332,  0.02477462,  1.01615477,  1.34070427, -1.58634939,\n",
       "        0.36757922,  0.00589117,  1.29388842, -0.97836077, -0.29379286,\n",
       "       -0.59020377,  0.66351986, -0.715752  ,  0.27412523, -1.48007967,\n",
       "       -0.19097963, -0.42625698,  0.93311238, -0.30866997, -0.09986366,\n",
       "       -0.87383017, -1.67156231, -0.46271878, -0.12869634, -0.0820069 ,\n",
       "       -1.4600674 , -0.14540901,  0.40260433, -0.19455503, -1.53487109,\n",
       "        0.09876   ,  0.09976839,  0.59730233,  0.69575007,  0.49650724,\n",
       "       -1.25591173,  0.22712277, -0.4075758 , -0.22073534, -0.43705439])"
      ]
     },
     "execution_count": 6,
     "metadata": {},
     "output_type": "execute_result"
    }
   ],
   "source": [
    "# simulere:\n",
    "np.random.standard_t(nu, size = 100)"
   ]
  },
  {
   "cell_type": "code",
   "execution_count": null,
   "id": "deee2980-c02d-4cba-bc52-26b7d87a8f1f",
   "metadata": {},
   "outputs": [],
   "source": []
  }
 ],
 "metadata": {
  "kernelspec": {
   "display_name": "Python 3",
   "language": "python",
   "name": "python3"
  },
  "language_info": {
   "codemirror_mode": {
    "name": "ipython",
    "version": 3
   },
   "file_extension": ".py",
   "mimetype": "text/x-python",
   "name": "python",
   "nbconvert_exporter": "python",
   "pygments_lexer": "ipython3",
   "version": "3.11.8"
  }
 },
 "nbformat": 4,
 "nbformat_minor": 5
}
