{
 "cells": [
  {
   "cell_type": "markdown",
   "id": "d45235cc-9600-4091-9259-0a42122e1c69",
   "metadata": {},
   "source": [
    "# Skriftlig innlevering 1, Oppgave 1-8"
   ]
  },
  {
   "cell_type": "markdown",
   "id": "63a74b7b-f03c-4c04-99a0-caf7109a2992",
   "metadata": {},
   "source": [
    "\n",
    "\n",
    "## Oppgave 1 *"
   ]
  },
  {
   "cell_type": "markdown",
   "id": "4238ebd0-eb7c-4e57-8316-b2a6803aca47",
   "metadata": {},
   "source": [
    "For å bestemme matematiske uttrykk for sannsynligheter av hendelser er det ofte enklest å visualisere sannsynligheten for hendelsen som et areal i et venndiagram. Start med å overbevise deg selv om at $P(A^\\prime)=1-P(A)$ og at $P(A\\cup B)= P(A) + P(B) -P(A\\cap B)$ for hendelser $A$ og $B$ i et utfallsrom $S$ ved hjelp av venndiagram.\n",
    "Vis deretter at følgende sannsynligheter er like"
   ]
  },
  {
   "cell_type": "markdown",
   "id": "0831b147-323e-48eb-85df-cff4f039a7e4",
   "metadata": {},
   "source": [
    "\\begin{align*}\n",
    "        P((A\\cup B)^\\prime) &= P(A^\\prime \\cap B^\\prime),\\\\\n",
    "        P((A\\cap B)^\\prime) &= P(A^\\prime \\cup B^\\prime).\\\\\n",
    "\\end{align*}"
   ]
  },
  {
   "cell_type": "markdown",
   "id": "2d8e1547",
   "metadata": {},
   "source": [
    "Tips: tegn og skravér i ett venndiagram for hver side av likhetstegnet."
   ]
  },
  {
   "cell_type": "markdown",
   "id": "e8dd23fe-f458-4652-b11b-e348c4ac910b",
   "metadata": {
    "tags": []
   },
   "source": [
    "## Oppgave 2 *\n",
    "\n"
   ]
  },
  {
   "cell_type": "markdown",
   "id": "6a373f2b-c667-45f4-bd11-7be3cec4c566",
   "metadata": {},
   "source": [
    "Anta at vi har en urne med $34$ kuler. Av disse $34$ kulene er sju kuler røde og resten blå. Anta at vi\n",
    "  tilfeldig trekker ut sju av de $34$ kulene, uten tilbakelegging.\n",
    "\n",
    "  * Hva er sannsynligheten for at alle de sju kulene vi trekker ut er røde?\n",
    "  * Hva er sannsynligheten for at nøyaktig fire av de sju kulene vi trekker ut er røde?\n",
    "  \n",
    "Anta så at vi etter å ha trukket ut sju kuler fra urna, trekker ut enda ei kule tilfeldig blant de $27$\n",
    "kulene som er igjen i urna. Denne siste kula kaller vi ekstrakule.\n",
    "\n",
    "  * Hva er sannsynligheten for at nøyaktig seks av de sju kulene vi først trakk ut er røde og at også\n",
    "    ekstrakula er rød?\n"
   ]
  },
  {
   "cell_type": "markdown",
   "id": "ec044b65",
   "metadata": {},
   "source": [
    "## Oppgave 3 *"
   ]
  },
  {
   "cell_type": "markdown",
   "id": "17426713",
   "metadata": {},
   "source": [
    "I et lotteri er det $300$ lodd. Tre av loddene gir en gevinst av type $A$ og tre andre lodd gir en gevinst av type $B$. De ørige 294 loddene gir ingen gevinst. Ola kjøper fem lodd som han trekker tilfeldig blant de $300$ loddene.\n",
    "\n",
    "  * Hva er sannsynligheten for at Ola vinner nøyaktig en gevinst av type A?\n",
    "  * Hva er sannsynligheten for at Ola vinner minst en gevinst av type A?\n",
    "  * Hva er sannsynligheten for at Ola vinner (minst en gevinst)? \n",
    "\n",
    "&nbsp;\n",
    "&nbsp;\n"
   ]
  },
  {
   "cell_type": "markdown",
   "id": "6b2a31e0-531d-4c03-abe7-b5ec07dee9d4",
   "metadata": {},
   "source": [
    "## Oppgave 4"
   ]
  },
  {
   "cell_type": "markdown",
   "id": "fcda9b74-e9d6-446b-b0e0-75252a6e11ae",
   "metadata": {},
   "source": [
    "La $A$, $B$ og $C$ være hendelser i et utfallsrom $S$, med $P(A)=0.4$, $P(B)=0.3$, $P(C)=0.3$, $P(A\\cup B)=0.6$, $P(A\\cup C) = 0.5$, $P(B\\cup C) = 0.6$ og $P(A\\cup B\\cup C) = 0.7$.\n",
    "\n",
    "  * Finn sannsynlighetene $P(A\\cap B)$, $P(A\\cap B\\cap C)$ og $P(A|B)$.\n",
    "  * Er hendelsene A og B uavhengige? \n",
    "  * Er hendelsene A og B disjunkte?"
   ]
  },
  {
   "cell_type": "markdown",
   "id": "984c04c5-b706-4ebb-bfde-f5ce5118e690",
   "metadata": {},
   "source": [
    "## Oppgave 5"
   ]
  },
  {
   "cell_type": "markdown",
   "id": "4f808b1d-85df-4616-9c1f-cbe633409a89",
   "metadata": {},
   "source": [
    "I en befolkning er $8\\%$ av mennene og $0.3\\%$ av kvinnene fargeblinde. I en gruppe\n",
    "  personer fra denne befolkningen er det dobbelt så mange kvinner som menn. En person som trekkes\n",
    "  tilfeldig fra denne gruppen viser seg å være fargeblind.\n",
    "\n",
    "  * Hva er sannsynligheten for at denne personen er ei kvinne?\n"
   ]
  },
  {
   "cell_type": "markdown",
   "id": "6f021be7-f2e9-470a-a4ed-f6955e8a73db",
   "metadata": {},
   "source": [
    "## Oppgave 6"
   ]
  },
  {
   "cell_type": "markdown",
   "id": "058344ad-88ee-40f0-a042-a8504e003256",
   "metadata": {},
   "source": [
    "La $X$ være en diskret fordelt stokastisk variabel med punktsannsynlighet $f(x)=P(X=x)$ som angitt\n",
    "i følgende tabell.\n",
    "\n",
    "\n",
    "| $x$ |  | $f(x)$ |\n",
    "|:---:|----|:------:|\n",
    "| $0$ |  | $0.05$ |\n",
    "| $1$ |  | $0.10$ |\n",
    "| $2$ |  | $0.25$ |\n",
    "| $3$ |  | $0.40$ |\n",
    "| $4$ |  | $0.15$ |\n",
    "| $5$ |  | $0.05$ |\n",
    "  \n",
    "   * Kjør python-koden under for å generere et stolpediagram for $f(x)$. <em>Merk: Studer hvilke funksjoner som benyttes slik at du kan skrive lignende kode selv senere.</em>\n"
   ]
  },
  {
   "cell_type": "code",
   "execution_count": 1,
   "id": "09f245e4-7557-42b0-8b5d-1600842b58a0",
   "metadata": {},
   "outputs": [
    {
     "data": {
      "image/png": "[encoded data removed]",
      "text/plain": [
       "<Figure size 640x480 with 1 Axes>"
      ]
     },
     "metadata": {},
     "output_type": "display_data"
    }
   ],
   "source": [
    "#UTLEVERT KODE (ingenting her skal endres) \n",
    "\n",
    "import numpy as np\n",
    "import matplotlib.pyplot as plt\n",
    "\n",
    "#utfallsrom\n",
    "x=np.arange(6)\n",
    "#punktsannsynlighet\n",
    "f_x = np.array([0.05,0.10,0.25,0.40,0.15,0.05])\n",
    "#stolpediagram\n",
    "plt.bar(x, f_x)\n",
    "plt.xlabel(\"x\")\n",
    "plt.ylabel(\"f(x)\")  \n",
    "plt.title(\"Stolpediagram for f(x)\") \n",
    "plt.show()"
   ]
  },
  {
   "cell_type": "markdown",
   "id": "1210102a-f611-4262-9609-4729058582cb",
   "metadata": {},
   "source": [
    "   * Bestem sannsynlighetene $P(X\\leq 2)$, $P(X\\leq 2|X<4)$ og $P(X\\leq 2|X\\geq 1)$.\n",
    "   * Finn kumulativ fordelingsfunksjon for $X$, $F(x)=P(X\\leq x)$. (Husk at $F(x)$ er definert for alle $x\\in\\mathbb{R}$.)\n",
    "   * Kjør python-koden under for å generere et plott av $F(x)$. <em>Merk: Studer hvilke funksjoner som benyttes slik at du kan skrive lignende kode selv senere.</em>"
   ]
  },
  {
   "cell_type": "code",
   "execution_count": 2,
   "id": "f845ebc2-d9cd-4dfc-ae4a-a81359bb54fd",
   "metadata": {},
   "outputs": [
    {
     "data": {
      "image/png": "[encoded data removed]",
      "text/plain": [
       "<Figure size 640x480 with 1 Axes>"
      ]
     },
     "metadata": {},
     "output_type": "display_data"
    }
   ],
   "source": [
    "#UTLEVERT KODE (ingenting her skal endres) \n",
    "\n",
    "import numpy as np\n",
    "import matplotlib.pyplot as plt\n",
    "\n",
    "# sett x-verdier og beregn tilhørende F(x)\n",
    "x = [-1,0]\n",
    "F_x = [0,0] # start- og sluttverdi for x på intervallet [-1,0]\n",
    "\n",
    "for i in range(5+1):    # for-løkke over verdiene 0,1,2,3,4,5\n",
    "    x = x + [i,i+1]    #\"+\" legger her listene sammen til en lengre liste\n",
    "    FF = np.sum(f_x[np.arange(i+1)])   # verdien til F(i)\n",
    "    F_x = F_x + [FF,FF]\n",
    "\n",
    "# lag plott av F(x)\n",
    "plt.plot(x, F_x, color=\"red\") \n",
    "plt.xlabel(\"x\")\n",
    "plt.ylabel(\"F(x)\")\n",
    "plt.show()"
   ]
  },
  {
   "cell_type": "markdown",
   "id": "9d681d3b",
   "metadata": {},
   "source": [
    "## Oppgave 7"
   ]
  },
  {
   "cell_type": "markdown",
   "id": "6e363d6c",
   "metadata": {},
   "source": [
    "La $X$ være en stokastisk variabel som beskriver hvor lang tid en komponent har fungert i det den svikter.\n",
    "Vi kaller da $X$ for <em>levetiden</em> for komponenten."
   ]
  },
  {
   "cell_type": "markdown",
   "id": "99f2ba91",
   "metadata": {},
   "source": [
    "Levetiden $X$ (målt i antall år) til en bestemt type mekaniske komponenter har vist seg å følge en fordeling med kumulativ fordelingsfunksjon gitt ved\n",
    "\\begin{align*}\n",
    "    F_X(x) = 1 - \\exp\\left\\{ -\\frac{x^2}{\\alpha}\\right\\}; x\\geq 0,\n",
    "\\end{align*}\n",
    "der $\\alpha$ er en parameter som beskriver kvaliteten til komponentene."
   ]
  },
  {
   "cell_type": "markdown",
   "id": "3c92b5fb",
   "metadata": {},
   "source": [
    "### Deloppgave a)\n",
    "\n",
    "Kjør python-koden under for å generere et plott av $F_X(x)$ når $\\alpha=1$. \n",
    "<em>Merk: Studer koden slik at du kan skrive lignende kode selv senere. </em>"
   ]
  },
  {
   "cell_type": "code",
   "execution_count": 3,
   "id": "331b96f2",
   "metadata": {},
   "outputs": [
    {
     "data": {
      "image/png": "[encoded data removed]",
      "text/plain": [
       "<Figure size 640x480 with 1 Axes>"
      ]
     },
     "metadata": {},
     "output_type": "display_data"
    }
   ],
   "source": [
    "#UTLEVERT KODE (ingenting her skal endres) \n",
    "\n",
    "import numpy as np\n",
    "import matplotlib.pyplot as plt\n",
    "\n",
    "# Sett hvilke x-verdier du vil plotte for\n",
    "x = np.linspace(0,5,100)\n",
    "\n",
    "# Sett verdien for parameteren alpha\n",
    "alpha = 1\n",
    "\n",
    "# Beregn kumulativ fordelingsfunksjon\n",
    "def F_X(x, alpha): \n",
    "    return 1- np.exp(-x**2/alpha) \n",
    "\n",
    "plt.plot(x, F_X(x, alpha), color=\"red\") \n",
    "plt.xlabel(\"x\")\n",
    "plt.ylabel(\"F(x)\") \n",
    "plt.show()"
   ]
  },
  {
   "cell_type": "markdown",
   "id": "6138e300",
   "metadata": {},
   "source": [
    "* Finn en formel for sannsynlighetstettheten $f_X(x)$ til $X$.\n",
    "* Skriv python-kode som genererer et plott av $f_X(x)$ for $x\\in (0,5)$. Skriv koden slik at du enkelt kan lage plott for ulike verdier av parameteren $\\alpha$, tilsvarende som er gjort i koden over for å plotte $F_X(x)$."
   ]
  },
  {
   "cell_type": "code",
   "execution_count": 4,
   "id": "95beec08",
   "metadata": {},
   "outputs": [],
   "source": [
    "import numpy as np\n",
    "import matplotlib.pyplot as plt\n",
    "\n",
    "# Sett hvilke x-verdier du vil plotte for\n",
    "x = np.linspace(0,5,100)\n",
    "\n",
    "# Sett verdien for parameteren alpha\n",
    "alpha = 1\n",
    "\n",
    "# Beregn så sannsynlighetstettheten og plott opp funksjonen\n",
    "\n",
    "\n"
   ]
  },
  {
   "cell_type": "markdown",
   "id": "20c98f3c",
   "metadata": {},
   "source": [
    "#### Her er deloppgave a slutt.\n",
    "\n",
    "Et instrument inneholder to komponenter av denne typen, begge med samme kvalitetsparameter $\\alpha$. \n",
    "De to komponentene svikter uavhengig av hverandre, og instrumentet fungerer så lenge minst en av de to komponentene fungerer. La $Z$ betegne levetiden til instrumentet.\n",
    "\n"
   ]
  },
  {
   "cell_type": "markdown",
   "id": "f1184b15",
   "metadata": {},
   "source": [
    "### Deloppgave b)\n",
    "\n",
    "* Finn en formel for sannsynligheten for at instrumentet fremdeles fungerer etter en tid $z$, dvs. $1-F_Z(z)=P(Z > z)$.\n",
    "* Bestem sannsynlighetstettheten for $Z$, $f_Z(z)$.\n",
    "* Der hvor du over skrev python-kode for å plotte $f_X(x)$, legg til python-kode for også å generere et plott av $f_Z(z)$. Inkluder plottet av $f_Z(z)$ i samme plott som $f_X(x)$, slik at du enkelt kan sammenligne de to sannsynlighetstetthetene. Kan du intuitivt forstå/forklare den kvalitative forskjellen mellom de to sannsynlighetstetthetene?"
   ]
  },
  {
   "cell_type": "markdown",
   "id": "fb94f9f1",
   "metadata": {},
   "source": [
    "## Oppgave 8"
   ]
  },
  {
   "cell_type": "markdown",
   "id": "b6ccb31b",
   "metadata": {},
   "source": [
    "I et lotteri er det $300$ lodd. Tre av loddene gir en gevinst av type $A$ og tre andre lodd gir en gevinst av type $B$. De øvrige 294 loddene gir ingen gevinst. Ola kjøper fem lodd som han trekker tilfeldig blant de $300$ loddene. La $X$ betegne antall gevinster av type A som Ola vinner, og la $Y$ betegne antall gevinster han vinner av type B."
   ]
  },
  {
   "cell_type": "markdown",
   "id": "f77cb369",
   "metadata": {},
   "source": [
    "La $f_X(x)=P(X=x)$ betegne punktsannsynligheten for $X$, og la tilsvarende $f_Y(y)=P(Y=y)$ betegne punktsannsynligheten for $Y$. Simultan punktsannsynlighet for $X$ og $Y$ betegner vi med $f_{XY}(x,y)=P(X=x,Y=y)$.\n",
    "\n",
    "  * Benytt kombinatorikk-regler til å finne en formel for $f_X(x)$ som funksjon av $x=0,1,2,3$.\n",
    "  * Finn også en formel som gjelder for $f_{XY}(x,y)$ når $x,y\\in\\{0,1,2,3\\}$, $x+y\\leq 5$.\n"
   ]
  },
  {
   "cell_type": "markdown",
   "id": "ccb60be2",
   "metadata": {},
   "source": [
    "For å besvare neste spørsmål kan du benytte at vi generelt har sammenhengen\n",
    "\\begin{align*}\n",
    "    f_X(x) = \\sum_y f_{XY}(x,y),\n",
    "\\end{align*}\n",
    "der summen er over alle mulige verdier for $y$.\n",
    "\n"
   ]
  },
  {
   "cell_type": "markdown",
   "id": "656bed55",
   "metadata": {},
   "source": [
    "  * Utled fra $f_{XY}(x,y)$ en formel for marginalfordelingen for $f_X(x)$ og observer at denne\n",
    "    er identisk med formelen du fant over. <em> Hint: Du vil her få bruk for Vandermondes identitet, som sier at for alle ikke-negative heltall $r$, $m$ og $n$ har man at </em>\n",
    "\n",
    "\\begin{align*}\n",
    "    \\sum_{k=0}^r \\binom{m}{k}\\binom{n}{r-k} = \\binom{m+n}{r}.\n",
    "\\end{align*}\n",
    "    \n"
   ]
  },
  {
   "cell_type": "markdown",
   "id": "e0f23805-e1b6-43f7-ae2a-4d4875ab8088",
   "metadata": {},
   "source": [
    "## Fasit:\n",
    "* Oppgave 2: $0.0190, 1.30\\cdot 10^{-6}$\n",
    "* Oppgave 3: $0.0487, 0.0493, 0.0967$\n",
    "* Oppgave 4: $0.1, 0, 1/3$\n",
    "* Oppgave 5: $0.0698$\n",
    "* Oppgave 6: $0.40, 0.5, 0.368$"
   ]
  }
 ],
 "metadata": {
  "kernelspec": {
   "display_name": "Python 3 (ipykernel)",
   "language": "python",
   "name": "python3"
  },
  "language_info": {
   "codemirror_mode": {
    "name": "ipython",
    "version": 3
   },
   "file_extension": ".py",
   "mimetype": "text/x-python",
   "name": "python",
   "nbconvert_exporter": "python",
   "pygments_lexer": "ipython3",
   "version": "3.10.13"
  }
 },
 "nbformat": 4,
 "nbformat_minor": 5
}
