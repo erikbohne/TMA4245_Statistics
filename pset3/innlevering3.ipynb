{
 "cells": [
  {
   "cell_type": "markdown",
   "id": "bbc752a0-3f69-4c23-a817-284bcf2574d4",
   "metadata": {},
   "source": [
    "# Skriftlig innlevering 3"
   ]
  },
  {
   "cell_type": "markdown",
   "id": "dfc9d8cf-eef2-4066-959a-cd6fc2c9684a",
   "metadata": {},
   "source": [
    "## Oppgave 1 **\n",
    "En bedrift har kjøpt inn en ny kraftig datamaskin og vurderer behovet for vedlikeholdsarbeid på denne. De regner med at feilene som vil oppstå er av to typer, feil som de kan utbedre selv (type A-feil) og feil som krever assistanse fra merkeleverandør for å utbedre (type B-feil). De antar at feil av type A kommer ifølge en poissonprosess med intensitet $\\lambda_A$ (per døgn), og at feil av type B kommer ifølge en poissonprosess med intensitet $\\lambda_B$ (per døgn). Dessuten antar de at feil av type A og type B oppstår uavhengig av hverandre. La $X_A$ og $X_B$ våre henholdsvis antall feil som vil oppstå av type A og av type B i løpet av et år (365 døgn)."
   ]
  },
  {
   "cell_type": "markdown",
   "id": "8a807ae3-bec7-4e63-965a-7489e318ffa1",
   "metadata": {},
   "source": [
    "### Deloppgave a) **\n",
    "Dersom $\\lambda_A=\\frac{3}{73}=0.0411$ og $\\lambda_B=\\frac{1}{73}=0.0137$, finn\n",
    "\n",
    "\\begin{align*}\n",
    "    E[X_A],\\ \\ \\ \\ P(X_A\\leq 15),\\ \\ \\ \\ P(X_A\\leq 15,X_B\\leq 10)\\ \\ \\ \\\n",
    "        \\mbox{og}\\ \\ \\ \\ P(X_A\\leq 15|X_B\\leq 10).\n",
    "\\end{align*}\n",
    "#### Her er deloppgave a) slutt.\n",
    "La $Z=X_A+X_B$ være totalt antall feil som oppstår i løpet av et år. "
   ]
  },
  {
   "cell_type": "markdown",
   "id": "14100c35",
   "metadata": {},
   "source": [
    "### Deloppgave b)\n",
    "I forelesning ble det vist at summen av to uavhengige Poissonfordelte stokastiske variabler (med ulike rater) også er Poissonfordelt. Bruk nå momentgenererende funksjoner til å vise at summen av to uavhengige Poissonfordelte stokastiske variabler er Poissonfordelt. "
   ]
  },
  {
   "cell_type": "markdown",
   "id": "be1975c4-336f-4cb8-b9ea-0228c407c981",
   "metadata": {},
   "source": [
    "### Deloppgave c) **\n",
    "Finn den betingede fordelingen for antall feil av type $A$ i løpet av et år, gitt at totalt antall\n",
    "    feil i løpet av dette året var lik et gitt tall $z$, dvs finn et uttrykk for\n",
    "\\begin{align*}\n",
    "    f_{X_A|Z}(x_A|z) = P(X_A=x_A|Z=z).\n",
    "\\end{align*}\n",
    "\n",
    "Kan du gjenkjenne denne betingede fordelingen som en fordeling vi har diskutert?"
   ]
  },
  {
   "cell_type": "markdown",
   "id": "30934338-a723-4160-ac11-86e0a80d7ed0",
   "metadata": {},
   "source": [
    "## Oppgave 2 **\n",
    "La $X$ være fødselsvekt i gram til et tilfeldig barn i Norge. Anta at $X$ er normalfordelt med \n",
    "forventningsverdi $\\mu=E[X]=3500$ og standardavvik $\\sigma = \\mbox{SD}[X]=570$.\n",
    "\n"
   ]
  },
  {
   "cell_type": "markdown",
   "id": "0fe7864d-4f65-4827-a202-80e7cb0d6a5d",
   "metadata": {},
   "source": [
    "### Deloppgave a)\n",
    "Finn sannsynlighetene\n",
    "    \n",
    "\\begin{align*}\n",
    "    P(X\\geq 3000),\\ &\\ \\ P(3200 \\leq X < 4000), \\\\\n",
    "  P(X\\geq 3500|X\\geq 3000)\n",
    "    \\ \\ \\ &\\mbox{og}\\ \\ \\ P(X\\leq 4000|X\\geq 3200).\n",
    "\\end{align*}"
   ]
  },
  {
   "cell_type": "markdown",
   "id": "c5b0d915-4149-42ae-beaa-7f02f4d3374f",
   "metadata": {},
   "source": [
    "#### Her er deloppgave a) slutt\n",
    "Et barn blir klassifisert som undervektig dersom fødselsvekta er under $c$ gram, der $c$ velges slik at\n",
    "\n",
    "\\begin{align*}\n",
    "  P(X<c) = 0.01.\n",
    "\\end{align*}\n",
    "\n",
    "La $Y$ være antall av $n=100$ barn i Norge som var undervektige ved fødselen."
   ]
  },
  {
   "cell_type": "markdown",
   "id": "fd6cebbd-611d-4679-bf89-58bd95e69486",
   "metadata": {},
   "source": [
    "### Deloppgave b)\n",
    "* Finn verdien til $c$.\n",
    "* Hvilke antagelser må du gjøre (i tillegg til de som er spesifisert over) for at $Y$ skal være\n",
    "    binomisk fordelt?\n",
    "* Forutsatt at $Y$ er binomisk fordelt, finn $P(Y\\geq 1)$ og $P(Y\\geq 2|Y\\geq 1)$."
   ]
  },
  {
   "cell_type": "markdown",
   "id": "6d95f733-edca-4082-b5b4-2d0de74348f9",
   "metadata": {},
   "source": [
    "## Oppgave 3 *\n",
    "Betrakt en poissonprosess med intensitet $\\lambda$. La $Z_1$ være tidspunkt for den første \n",
    "hendelsen i prosessen, la $Z_2$ være tidspunkt for den andre hendelsen i prosessen, og tilsvarende \n",
    "videre slik at $Z_k$ er tidspunkt for hendelse nummer $k$ i prosessen.\n",
    "\n",
    "La $X_1=Z_1$ og for $k=2,3,\\ldots$ la\n",
    "\n",
    "\\begin{align*}\n",
    "X_k = Z_k - Z_{k-1}.\n",
    "\\end{align*}\n",
    "\n",
    "Dermed har vi altså at $X_1$ er tid til første hendelse i poissonprosessen, og for $k=2,3,\\ldots$ er $X_k$ tid mellom to etterfølgende hendelser i poissonprosessen. Vi vet dermed at $X_1,X_2,\\ldots$ er uavhengige og ekseponensialfordelte, alle med samme parameterverdi $\\lambda$."
   ]
  },
  {
   "cell_type": "markdown",
   "id": "5b5316b5-81c6-4a01-a0d4-dbdb099790b1",
   "metadata": {},
   "source": [
    "### Deloppgave a)\n",
    "Finn sannsynlighetene \n",
    "\n",
    "\\begin{align*}\n",
    "P(X_1 \\geq 2),\\ \\ \\ \\ P(X_1 + X_2 \\geq 4)\\ \\ \\ \\ \\mbox{og}\\ \\ \\ \\ P(X_1+X_2\\geq 4|X_1\\geq 2).\n",
    "\\end{align*}\n",
    "\n",
    "Finn først formler for sannsynlighetene som funksjon av $\\lambda$, og sett deretter inn $\\lambda=0.5$ og regn ut en numerisk verdi.\n",
    "\n",
    "<em>Merk at sannsynlighetene med to stokastiske variabler kan beregnes ved å sette opp dobbeltintegraler over egnet område eller ved å omskrive sannsynligheten til å omhandle en annen stokastisk variabel med en annen sannsynlighetsfordeling.</em>\n",
    "\n",
    "#### Her er deloppgave a) slutt."
   ]
  },
  {
   "cell_type": "markdown",
   "id": "25a508b4",
   "metadata": {},
   "source": [
    "I de to neste deloppgavene skal du bevise ved hjelp av induksjon at $Z_k$ er gammafordelt med parametre $\\alpha=k$ og $\\beta=\\frac{1}{\\lambda}$. Vi starter med å vise at påstanden er korrekt for $k=1$."
   ]
  },
  {
   "cell_type": "markdown",
   "id": "f8b8445d",
   "metadata": {},
   "source": [
    "### Deloppgave b)\n",
    "Sett $\\alpha=1$ og $\\beta=\\frac{1}{\\lambda}$ i sannsynlighetstettheten til en gammafordeling og vis at \n",
    "sannsynlighetstettheten da blir identisk med en eksponensialfordeling med parameter $\\lambda$. <em>Merk: \n",
    "Du har dermed bevist at $Z_1$ er gammafordelt med parametre $\\alpha=1$ og $\\beta=\\frac{1}{\\lambda}$</em>.\n"
   ]
  },
  {
   "cell_type": "markdown",
   "id": "67375fcf",
   "metadata": {},
   "source": [
    "### Deloppgave c)\n",
    "Anta så at påstanden vi ønsker å bevise er korrekt for $k=n-1$, dvs vi antar at $Z_{n-1}$ er gammafordelt \n",
    "med parametre $\\alpha=n-1$ og $\\beta=\\frac{1}{\\lambda}$. Merk dessuten at vi vet at $Z_n = Z_{n-1}+X_n$ \n",
    "og at $Z_{n-1}$ og $X_n$ er uavhengige stokastiske variabler.\n",
    "\n",
    "Benytt setningen om total sannsynlighet (for kontinuerlige stokastiske variabler) til å vise at da blir \n",
    "$Z_n$ gammafordelt med parametre $\\alpha=n$ og $\\beta=\\frac{1}{\\lambda}$.\n",
    "\n",
    "<em>Merk: Ved induksjon har du dermed bevist, for alle $k=1,2,\\ldots$, at $Z_k$ er gammafordelt med \n",
    "parametre $\\alpha=k$ og $\\beta=\\frac{1}{\\lambda}$.</em>\n"
   ]
  },
  {
   "cell_type": "markdown",
   "id": "c6f923c9-30de-4915-ad45-3f82acdfa9df",
   "metadata": {},
   "source": [
    "## Oppgave 4 *\n",
    "La $X$ være normalfordelt med forventningsverdi $\\mu$ og varians lik $\\sigma^2$, \n",
    "og la $Y=aX+b$ for to konstanter $a$ og $b$."
   ]
  },
  {
   "cell_type": "markdown",
   "id": "22383fa5-1c79-41d4-abfd-71a1620ef9dd",
   "metadata": {},
   "source": [
    "### Deloppgave a)\n",
    "Finn $E[Y]$ og $\\mbox{Var}[Y]$.\n",
    "\n",
    "Lag en pythonfunksjon som simulerer $n$ realisasjoner av $Y$ ved først å simulere $n$ realisasjoner av $X$ ved hjelp av pythonfunksjonen <em>numpy.random.normal</em>, og deretter regner ut tilsvarende verdier av $Y$. Funksjonen din skal ha fem input-parametre, $n$, $\\mu$, $\\sigma$, $a$ og $b$. \n",
    "\n",
    "For $\\mu=1$, $\\sigma=2$, $a=2$ og $b=0.5$, benytt pythonfunksjonen din til å generere $n=100\\ 000$ realisasjoner av $Y$. Lag et sannsynlighetshistogram av disse $n$ verdiene og spesifiser at sannsynlighetshistogrammet skal ha $100$ intervaller (se eventuelt kode fra skriftlig innlevering 2)."
   ]
  },
  {
   "cell_type": "markdown",
   "id": "01d7365f-1082-4ddd-b5ae-80e9e54ac435",
   "metadata": {},
   "source": [
    "Plott så sannsynlighetstettheten til en normalfordeling med forventningsverdi lik $E[Y]$ og varians lik $\\mbox{Var}[Y]$ i samme plott som histogrammet. Observer (dersom du har gjort ting rett) at sannsynlighetstettheten sammenfaller meget godt med sannsynlighetshistogrammet, og konkluder dermed med at det kan se ut som om $Y$ er normalfordelt.\n",
    "\n",
    "Gjenta gjerne denne simuleringsprosedyren også for noen andre verdier av $\\mu$, $\\sigma$, $a$ og $b$ og observer at sannsynlighetshistogrammet også da sammenfaller med tilhørende sannsynlighetstetthet."
   ]
  },
  {
   "cell_type": "code",
   "execution_count": 4,
   "id": "728218f5",
   "metadata": {},
   "outputs": [
    {
     "data": {
      "text/plain": [
       "(array([6.10050503e-05, 3.05025251e-05, 3.05025251e-05, 3.05025251e-05,\n",
       "        1.22010101e-04, 0.00000000e+00, 3.05025251e-05, 3.05025251e-05,\n",
       "        2.74522726e-04, 3.66030302e-04, 4.27035352e-04, 5.18542927e-04,\n",
       "        5.79547978e-04, 9.45578279e-04, 8.54070704e-04, 1.37261363e-03,\n",
       "        1.79964898e-03, 1.58613131e-03, 2.53170959e-03, 3.35527776e-03,\n",
       "        3.78231312e-03, 4.23985099e-03, 5.39894695e-03, 5.67346967e-03,\n",
       "        8.08316916e-03, 1.02488484e-02, 1.17739747e-02, 1.40921666e-02,\n",
       "        1.48242272e-02, 1.82710126e-02, 2.11382499e-02, 2.30599090e-02,\n",
       "        3.02585049e-02, 3.21496615e-02, 3.57794620e-02, 4.21544897e-02,\n",
       "        4.41981589e-02, 5.00546437e-02, 5.59416311e-02, 5.93884164e-02,\n",
       "        6.49093735e-02, 6.96067624e-02, 7.39381209e-02, 7.88185249e-02,\n",
       "        8.37294315e-02, 8.80912926e-02, 8.76947598e-02, 9.59609441e-02,\n",
       "        9.82791360e-02, 9.34597370e-02, 9.95602420e-02, 9.89806941e-02,\n",
       "        1.01969942e-01, 9.84621511e-02, 9.55949138e-02, 9.85841612e-02,\n",
       "        8.88843582e-02, 9.09890325e-02, 8.72372219e-02, 8.18077724e-02,\n",
       "        7.70493785e-02, 7.47006841e-02, 6.74410831e-02, 6.17676134e-02,\n",
       "        5.79242952e-02, 5.31353988e-02, 4.70653963e-02, 4.53877574e-02,\n",
       "        4.11174039e-02, 3.41323256e-02, 3.04720226e-02, 2.68727246e-02,\n",
       "        2.47985529e-02, 2.02841792e-02, 1.85760378e-02, 1.59223181e-02,\n",
       "        1.32075934e-02, 1.13469393e-02, 8.44919946e-03, 7.83914896e-03,\n",
       "        6.40553028e-03, 5.15492675e-03, 3.72130807e-03, 2.83673484e-03,\n",
       "        2.80623231e-03, 2.47070454e-03, 1.34211111e-03, 1.67763888e-03,\n",
       "        9.76080804e-04, 6.40553028e-04, 6.10050503e-04, 7.01558078e-04,\n",
       "        4.27035352e-04, 1.52512626e-04, 3.35527776e-04, 1.83015151e-04,\n",
       "        6.10050503e-05, 6.10050503e-05, 9.15075754e-05, 9.15075754e-05]),\n",
       " array([-14.50082925, -14.17298754, -13.84514583, -13.51730412,\n",
       "        -13.18946241, -12.8616207 , -12.53377899, -12.20593728,\n",
       "        -11.87809557, -11.55025386, -11.22241215, -10.89457044,\n",
       "        -10.56672873, -10.23888702,  -9.91104531,  -9.5832036 ,\n",
       "         -9.25536189,  -8.92752018,  -8.59967847,  -8.27183676,\n",
       "         -7.94399505,  -7.61615334,  -7.28831163,  -6.96046992,\n",
       "         -6.63262821,  -6.3047865 ,  -5.97694479,  -5.64910308,\n",
       "         -5.32126137,  -4.99341966,  -4.66557795,  -4.33773624,\n",
       "         -4.00989453,  -3.68205282,  -3.35421111,  -3.0263694 ,\n",
       "         -2.69852769,  -2.37068598,  -2.04284427,  -1.71500256,\n",
       "         -1.38716085,  -1.05931914,  -0.73147743,  -0.40363572,\n",
       "         -0.07579401,   0.2520477 ,   0.57988941,   0.90773112,\n",
       "          1.23557283,   1.56341454,   1.89125625,   2.21909796,\n",
       "          2.54693967,   2.87478138,   3.20262309,   3.5304648 ,\n",
       "          3.85830651,   4.18614822,   4.51398993,   4.84183164,\n",
       "          5.16967335,   5.49751506,   5.82535677,   6.15319848,\n",
       "          6.48104019,   6.8088819 ,   7.13672361,   7.46456532,\n",
       "          7.79240703,   8.12024874,   8.44809045,   8.77593216,\n",
       "          9.10377387,   9.43161558,   9.75945729,  10.087299  ,\n",
       "         10.41514071,  10.74298242,  11.07082413,  11.39866584,\n",
       "         11.72650755,  12.05434926,  12.38219097,  12.71003268,\n",
       "         13.03787439,  13.3657161 ,  13.69355781,  14.02139952,\n",
       "         14.34924123,  14.67708294,  15.00492465,  15.33276636,\n",
       "         15.66060807,  15.98844978,  16.31629149,  16.6441332 ,\n",
       "         16.97197491,  17.29981662,  17.62765833,  17.95550004,\n",
       "         18.28334175]),\n",
       " <BarContainer object of 100 artists>)"
      ]
     },
     "execution_count": 4,
     "metadata": {},
     "output_type": "execute_result"
    },
    {
     "data": {
      "image/png": "[encoded data removed]",
      "text/plain": [
       "<Figure size 640x480 with 1 Axes>"
      ]
     },
     "metadata": {},
     "output_type": "display_data"
    }
   ],
   "source": [
    "import numpy as np\n",
    "import matplotlib.pyplot as plt\n",
    "from scipy.stats import norm\n",
    "\n",
    "def sim_Y(n, mu, sigma, a, b):\n",
    "    X = np.random.normal(mu, sigma, n)\n",
    "    Y = a * X + b\n",
    "    return Y\n",
    "    \n",
    "N = int(1e5)\n",
    "mu = 1\n",
    "sigma = 2\n",
    "a = 2\n",
    "b = 0.5\n",
    "\n",
    "# Simulerer Y\n",
    "Y = sim_Y(N, mu, sigma, a, b)\n",
    "\n",
    "# Beregn forventningsverdi og varians for Y\n",
    "E_Y = a * mu + b\n",
    "Var_Y = (a * sigma)**2\n",
    "\n",
    "# Histogram\n",
    "plt.hist(Y, bins=100, density=True, alpha=0.7, color='g')\n",
    "\n",
    "# Analytisk fordeling\n",
    "xmin, xmax = plt.xlim()\n",
    "x = np.linspace(xmin, xmax, 100)\n",
    "p = norm.pdf(x, E_Y, np.sqrt(Var_Y))\n",
    "plt.plot(x, p, 'k', linewidth=2)\n",
    "\n"
   ]
  },
  {
   "cell_type": "markdown",
   "id": "fa64b8cb-4166-4e7f-bca1-e367f77bd463",
   "metadata": {},
   "source": [
    "### Deloppgave b)\n",
    "Benytt transformasjonsformelen til å utlede sannsynlighetstettheten til $Y$, og vis at denne kan skrives \n",
    "på formen av en normalfordelingstetthet med forventningsverdi og varians lik formelene du fant \n",
    "for henholdsvis $E[Y]$ og $\\mbox{Var}[Y]$ i punktet over.    \n",
    "\n",
    "<em>Merk: Du har nå vist at enhver <b>lineær</b> funksjon av en normalfordelt variabel er normalfordelt, slik simuleringsstudien du gjorde over antydet.</em>"
   ]
  },
  {
   "cell_type": "markdown",
   "id": "64ec49c6",
   "metadata": {},
   "source": [
    "## Oppgave 5\n",
    "I denne oppgaven skal vi benytte momentgenerende funksjoner til å se på et spesialtilfelle av sentralgrenseteoremet."
   ]
  },
  {
   "cell_type": "markdown",
   "id": "f51089a6",
   "metadata": {},
   "source": [
    "Anta at vi har uavhengige og identisk fordelte stokastiske variabler $X_1,X_2,\\ldots,X_n$, det $X_i\\in\\{-1,1\\}$ og\n",
    "\n",
    "\\begin{align*}\n",
    "P(X_i=-1)=\\frac{1}{2} \\ \\ \\mbox{og}\\ \\  P(X_i=1)=\\frac{1}{2}.\n",
    "\\end{align*}\n",
    "\n",
    "Som vanlig lar vi \n",
    "\\begin{align*}\n",
    "\\overline{X} = \\frac{1}{n}\\sum_{i=1}^n X_i\n",
    "\\end{align*}\n",
    "være gjennomsnittet av $X_i$'ene. "
   ]
  },
  {
   "cell_type": "markdown",
   "id": "7de8e093",
   "metadata": {},
   "source": [
    "### Deloppgave a)\n",
    "Utled en formel for momentgenererende funksjon for $X_i$, $M_{X_i}(t)$.\n",
    "\n",
    "Benytt $M_{X_i}(t)$ til å finne $E[X_i]$ og $E[X_i^2]$. Bestem også $\\mbox{Var}[X_i]$.\n",
    "\n",
    "Bruk så regneregler for forventningsverdi og varians til å bestemme $E[\\overline{X}]$ og $\\mbox{Var}[\\overline{X}]$. \n",
    "\n",
    "#### Her er deloppgave a) slutt."
   ]
  },
  {
   "cell_type": "markdown",
   "id": "3aab5bbe",
   "metadata": {},
   "source": [
    "\n",
    "La $U$ betegne er standardisert versjon av $\\overline{X}$, dvs la\n",
    "\\begin{align*}\n",
    "U = \\frac{\\overline{X}-E[\\overline{X}]}{\\sqrt{\\mbox{Var}[\\overline{X}]}}.\n",
    "\\end{align*}\n",
    "\n",
    "### Deloppgave b)\n",
    "Benytt regneregler for momentgenererende funksjoner til å finne et uttrykk for $M_{\\overline{X}}(t)$.\n",
    "\n",
    "\n",
    "Benytt så uttrykkene du fant for $E[\\overline{X}]$ og $\\mbox{Var}[\\overline{X}]$ i deloppgave a), og \n",
    "igjen regneregler for momentgenererende funksjoner, til å finne et uttrykk for $M_U(t)$. Vis spesielt at $\\ln M_U(t)$ kan skrives på formen\n",
    "\n",
    "\\begin{align*}\n",
    "\\ln M_U(t) = n\\ln\\left(\\frac{\\exp\\left\\{\\frac{t}{\\sqrt{n}}\\right\\}+\\exp\\left\\{-\\frac{t}{\\sqrt{n}}\\right\\}}{2}\\right).\n",
    "\\end{align*}\n",
    "\n",
    "#### Her er deloppgave b) slutt.\n"
   ]
  },
  {
   "cell_type": "markdown",
   "id": "70e1c3f0",
   "metadata": {},
   "source": [
    "Sentralgrenseteoremet sier som kjent at fordelingen til $U$ vil konvergere mot en standard normalfordeling når \n",
    "$n\\rightarrow\\infty$. Dette betyr at $M_U(t)$ må konvergere mot den momentgenerende funksjonen til en\n",
    "standard normalfordelt variabel $Z\\sim N(0,1)$, som er gitt ved\n",
    "\n",
    "\\begin{align*}\n",
    "M_Z(t) = \\exp\\left\\{\\frac{t^2}{2}\\right\\}.\n",
    "\\end{align*}"
   ]
  },
  {
   "cell_type": "markdown",
   "id": "dd0fdcec",
   "metadata": {},
   "source": [
    "### Deloppgave c)\n",
    "For å undersøke om det ser ut til å stemme at $M_U(t)$ konvergerer mot $M_Z(t)$ når \n",
    "$n\\rightarrow\\infty$, lag et plott av begge funksjonene $M_U(t)$ og $M_Z(t)$ (for eksempel) i intervallet $t\\in[0,1]$. Lag plottet for ulike verdier av $n$, for eksempel for $n=4$, $n=10$ og $n=100$. Ser det ut til at sentralgrenseteoremet stemmer i dette tilfellet?"
   ]
  },
  {
   "cell_type": "code",
   "execution_count": null,
   "id": "c821ffd3",
   "metadata": {},
   "outputs": [],
   "source": [
    "# Her kan du skrive koden for å plotte de to funksjonene.\n",
    "\n"
   ]
  },
  {
   "cell_type": "markdown",
   "id": "509e0d80",
   "metadata": {},
   "source": [
    "Bevis så matematisk at $M_U(t)$ konvergerer mot $M_Z(t)$ ved å vise at \n",
    "\n",
    "\\begin{align*}\n",
    "\\lim_{n\\rightarrow\\infty}\\ln M_U(t) = \\frac{t^2}{2}.\n",
    "\\end{align*}\n",
    "\n",
    "<em>Hint: For å bestemme grensen trenger du å benytte L'Hopitals regel. For å komme frem trenger du faktisk å \n",
    "benytte L'Hoptals regel to ganger.</em>"
   ]
  },
  {
   "cell_type": "markdown",
   "id": "5cc00d5c-48df-4317-8838-959cc83917cc",
   "metadata": {},
   "source": [
    "## Fasit:\n",
    "* Oppgave 1a): $15, 0.5681, 0.5603, 0.5681$\n",
    "* Oppgave 2a): $0.8106, 05125, 0.6168, 0.7302$\n",
    "* Oppgave 2b): $2174.2, 0.6340, 0.4168$\n",
    "* Oppgave 3a): $0.3679, 0.4060, 0.7358$\n",
    "* Oppgave 4a): $E[Y]=a\\mu+b, \\mbox{Var}[Y]=a^2\\sigma^2$\n",
    "* Oppgave 5a): $E[\\bar X]=0, \\:\\text{Var}[\\bar X]=\\frac 1 n $"
   ]
  }
 ],
 "metadata": {
  "kernelspec": {
   "display_name": "Python 3 (ipykernel)",
   "language": "python",
   "name": "python3"
  },
  "language_info": {
   "codemirror_mode": {
    "name": "ipython",
    "version": 3
   },
   "file_extension": ".py",
   "mimetype": "text/x-python",
   "name": "python",
   "nbconvert_exporter": "python",
   "pygments_lexer": "ipython3",
   "version": "3.10.13"
  }
 },
 "nbformat": 4,
 "nbformat_minor": 5
}
