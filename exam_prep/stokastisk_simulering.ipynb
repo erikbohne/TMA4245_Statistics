{
 "cells": [
  {
   "cell_type": "code",
   "execution_count": 47,
   "metadata": {},
   "outputs": [],
   "source": [
    "# Importer nødvendige biblioteker, denne cellen må kjøres før annen kode.\n",
    "import numpy as np\n",
    "import matplotlib.pyplot as plt\n",
    "\n",
    "# UTLEVERT KODE (ingenting her skal endres)\n",
    "# punktsannsynlighet\n",
    "f_x = np.array([0.05, 0.10, 0.25, 0.40, 0.15, 0.05])\n",
    "# kumulativ fordelingsfunksjon\n",
    "F_x = [np.sum(f_x[:i]) for i in range(1, 7)]\n",
    "\n",
    "\n",
    "def simX(n):\n",
    "    # verdimengde\n",
    "    x = np.arange(6)\n",
    "    # for lagring av realisasjoner\n",
    "    x_sim = np.zeros(n)\n",
    "    for i in range(n):  # vi simulerer hver og en x for seg\n",
    "        u = np.random.uniform()  # en realisasjon fra U(0,1)\n",
    "        if u < F_x[0]:  # hvis u er mindre enn den laveste\n",
    "            # verdien i F_x vil\n",
    "            # vi at realisasjonen skal være 0\n",
    "            x_sim[i] = x[0]\n",
    "        elif u <= F_x[1]:  # hvis u er mindre enn den nest\n",
    "            # laveste verdien (men større enn laveste)\n",
    "            # vil vi at x skal bli 1\n",
    "            x_sim[i] = x[1]\n",
    "        elif u <= F_x[2]:\n",
    "            x_sim[i] = x[2]\n",
    "        elif u <= F_x[3]:\n",
    "            x_sim[i] = x[3]\n",
    "        elif u <= F_x[4]:\n",
    "            x_sim[i] = x[4]\n",
    "        elif u > F_x[4]:\n",
    "            x_sim[i] = x[5]\n",
    "    return x_sim\n"
   ]
  },
  {
   "cell_type": "markdown",
   "metadata": {},
   "source": [
    "# Oppgave 1"
   ]
  },
  {
   "cell_type": "code",
   "execution_count": 48,
   "metadata": {},
   "outputs": [
    {
     "name": "stdout",
     "output_type": "stream",
     "text": [
      "Approksimert sannsynlighet:  0.383\n"
     ]
    }
   ],
   "source": [
    "# Antall realisasjoner man skal bruke\n",
    "n = 1000\n",
    "\n",
    "# Simuler realisasjoner av X ved å kalle på simX-funksjonen i cellen over\n",
    "simulerte_X = simX(n)\n",
    "\n",
    "# Approksimer sannsynligheten\n",
    "P_X_le_2 = np.sum(simulerte_X <= 2) / n\n",
    "\n",
    "# Skriv ut resultatet\n",
    "print(\"Approksimert sannsynlighet: \" , P_X_le_2)"
   ]
  },
  {
   "cell_type": "markdown",
   "metadata": {},
   "source": [
    "# Oppgave 2"
   ]
  },
  {
   "cell_type": "code",
   "execution_count": 53,
   "metadata": {},
   "outputs": [
    {
     "name": "stdout",
     "output_type": "stream",
     "text": [
      "E[X] = 2.672\n",
      "Var[X] = 1.262\n",
      "SD[X] = 1.124\n"
     ]
    }
   ],
   "source": [
    "# Vi finner forventingsverdien til X\n",
    "ev = 0\n",
    "for x in np.arange(6):\n",
    "    ev += (np.sum(simulerte_X == x) / n) * x\n",
    "print(f\"E[X] = {round(ev,3)}\")\n",
    "\n",
    "# Vi finner variansen til X\n",
    "var = -(ev**2)\n",
    "for x in np.arange(6):\n",
    "    var += ((np.sum(simulerte_X == x) / n) * x**2)\n",
    "print(f\"Var[X] = {round(var,3)}\")\n",
    "print(f\"SD[X] = {round(np.sqrt(var),3)}\")"
   ]
  },
  {
   "cell_type": "markdown",
   "metadata": {},
   "source": [
    "# Oppgave 3"
   ]
  },
  {
   "cell_type": "code",
   "execution_count": 54,
   "metadata": {},
   "outputs": [],
   "source": [
    "# Definerer F_X(x)\n",
    "def F_X(x, alpha):\n",
    "    if x >= 0:\n",
    "        return 1 - np.exp(-(x**2)/alpha)\n",
    "    else:\n",
    "        return 0\n",
    "    \n",
    "# Definerer PDF til F_X(x)\n",
    "def f_X(x, alpha):\n",
    "    if x >= 0:\n",
    "        return (2*x/alpha)*np.exp(-(x**2)/alpha)\n",
    "    else:\n",
    "        return 0\n",
    "    \n",
    "# Definerer U\n",
    "def U():\n",
    "    return np.random.uniform(0, 1)\n",
    "\n",
    "def X(alpha):\n",
    "    return np.sqrt(-alpha * np.log(1 - U()))\n",
    "\n",
    "# Simuler n antall realisasjoner av X\n",
    "def sim_rel_X(n, alpha):\n",
    "    x_values = []\n",
    "    for i in range(n):\n",
    "        x_values.append(X(alpha))\n",
    "\n",
    "    return x_values"
   ]
  },
  {
   "cell_type": "code",
   "execution_count": 61,
   "metadata": {},
   "outputs": [
    {
     "data": {
      "text/plain": [
       "[<matplotlib.lines.Line2D at 0x292afc190>]"
      ]
     },
     "execution_count": 61,
     "metadata": {},
     "output_type": "execute_result"
    },
    {
     "data": {
      "image/png": "[encoded data removed]",
      "text/plain": [
       "<Figure size 640x480 with 1 Axes>"
      ]
     },
     "metadata": {},
     "output_type": "display_data"
    }
   ],
   "source": [
    "# 10 000 000 realisasjoner\n",
    "n = 10000000\n",
    "\n",
    "# alpha verdien\n",
    "alpha = 1\n",
    "\n",
    "# Simulerer x verdier\n",
    "simulerte_x_verdier = sim_rel_X(n, alpha)\n",
    "\n",
    "# plot histogram med b=100\n",
    "import matplotlib.pyplot as plt\n",
    "plt.hist(simulerte_x_verdier, density=True, bins=100)\n",
    "\n",
    "# plot analytisk løsning\n",
    "x = np.linspace(0,5,1000)\n",
    "y = [f_X(xi, alpha) for xi in x]\n",
    "plt.plot(x,y)"
   ]
  },
  {
   "cell_type": "code",
   "execution_count": 71,
   "metadata": {},
   "outputs": [],
   "source": [
    "# Ulik kvalitetsparamter på ulike komponenter\n",
    "alpha1 = 1\n",
    "alpha2 = 1.2\n",
    "\n",
    "# Vi definerer simulering av Y: Levetiden til et instrument (3 av 5 komponenter må fungere)\n",
    "def simY(n):\n",
    "    levetid = np.zeros(n)\n",
    "    for i in range(n):\n",
    "        # Get the third value in the sorted list\n",
    "        levetid[i] = sorted([\n",
    "            X(alpha1), \n",
    "            X(alpha1), \n",
    "            X(alpha2), \n",
    "            X(alpha2), \n",
    "            X(alpha2)\n",
    "        ])[2]\n",
    "\n",
    "    return levetid"
   ]
  },
  {
   "cell_type": "code",
   "execution_count": 76,
   "metadata": {},
   "outputs": [
    {
     "data": {
      "image/png": "[encoded data removed]",
      "text/plain": [
       "<Figure size 640x480 with 1 Axes>"
      ]
     },
     "metadata": {},
     "output_type": "display_data"
    },
    {
     "name": "stdout",
     "output_type": "stream",
     "text": [
      "P(Y >= 1) = 0.33\n",
      "P(Y >= 1 gitt Y >= 0.75) = 0.48\n"
     ]
    }
   ],
   "source": [
    "# 10 000 realisasjoner\n",
    "n = 10000\n",
    "\n",
    "# Simulerer y verdier\n",
    "simulerte_y_verdier = simY(n)\n",
    "\n",
    "# plot histogram med b=100\n",
    "plt.hist(simulerte_y_verdier, density=True, bins=100)\n",
    "plt.show()\n",
    "\n",
    "# Finner P(Y >= 1) og P(Y >= 1 gitt Y >= 0.75)\n",
    "print(f\"P(Y >= 1) = {round(sum(simulerte_y_verdier >= 1) / n, 2)}\")\n",
    "print(f\"P(Y >= 1 gitt Y >= 0.75) = {round(sum(simulerte_y_verdier >= 1) / sum(simulerte_y_verdier >= .75), 2)}\")"
   ]
  },
  {
   "cell_type": "markdown",
   "metadata": {},
   "source": [
    "# Oppgave 4"
   ]
  },
  {
   "cell_type": "code",
   "execution_count": 77,
   "metadata": {},
   "outputs": [
    {
     "name": "stdout",
     "output_type": "stream",
     "text": [
      "E[Y] = 0.9\n",
      "Var[Y] = 0.27\n"
     ]
    }
   ],
   "source": [
    "print(f\"E[Y] = {round(np.mean(simulerte_y_verdier),2)}\")\n",
    "print(f\"Var[Y] = {round(np.std(simulerte_y_verdier),2)}\")"
   ]
  }
 ],
 "metadata": {
  "kernelspec": {
   "display_name": "school-environment",
   "language": "python",
   "name": "python3"
  },
  "language_info": {
   "codemirror_mode": {
    "name": "ipython",
    "version": 3
   },
   "file_extension": ".py",
   "mimetype": "text/x-python",
   "name": "python",
   "nbconvert_exporter": "python",
   "pygments_lexer": "ipython3",
   "version": "3.11.8"
  }
 },
 "nbformat": 4,
 "nbformat_minor": 2
}
