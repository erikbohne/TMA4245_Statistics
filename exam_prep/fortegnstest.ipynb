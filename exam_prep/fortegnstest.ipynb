{
 "cells": [
  {
   "cell_type": "markdown",
   "metadata": {},
   "source": [
    "### Fortegnstest - Introduksjon\n",
    "\n",
    "Fortegnstesten er en ikke-parametrisk statistisk test som brukes for å vurdere om medianen av en populasjon avviker fra en spesifisert verdi. Den er spesielt nyttig når du ikke kan anta normalfordeling av dataene. Her vil vi demonstrere bruken av en fortegnstest for å undersøke om medianen av et datasett avviker fra null.\n"
   ]
  },
  {
   "cell_type": "code",
   "execution_count": 29,
   "metadata": {},
   "outputs": [],
   "source": [
    "# Importerer nødvendige biblioteker\n",
    "import numpy as np\n",
    "from scipy.stats import binom\n",
    "\n",
    "# Genererer et datasett\n",
    "np.random.seed(0)  # For reproduserbarhet\n",
    "data = np.random.normal(loc=0.5, scale=1, size=30)  # Data generert fra en normalfordeling\n"
   ]
  },
  {
   "cell_type": "markdown",
   "metadata": {},
   "source": [
    "### Visualisering av data\n",
    "\n",
    "Før vi utfører fortegnstesten, kan det være nyttig å visualisere dataene for å få en intuitiv forståelse av fordelingen.\n"
   ]
  },
  {
   "cell_type": "code",
   "execution_count": 30,
   "metadata": {},
   "outputs": [
    {
     "data": {
      "image/png": "[encoded data removed]",
      "text/plain": [
       "<Figure size 1000x600 with 1 Axes>"
      ]
     },
     "metadata": {},
     "output_type": "display_data"
    }
   ],
   "source": [
    "# Importerer nødvendige biblioteker for visualisering\n",
    "import matplotlib.pyplot as plt\n",
    "\n",
    "# Plotter dataene\n",
    "plt.figure(figsize=(10, 6))\n",
    "plt.hist(data, bins=15, alpha=0.7, color='blue', edgecolor='black')\n",
    "plt.axvline(x=0, color='red', linestyle='--', label='Spesifisert medianverdi (0)')\n",
    "plt.xlabel('Verdier')\n",
    "plt.ylabel('Frekvens')\n",
    "plt.title('Histogram av data')\n",
    "plt.legend()\n",
    "plt.show()\n"
   ]
  },
  {
   "cell_type": "markdown",
   "metadata": {},
   "source": [
    "### Utføring av fortegnstest\n",
    "\n",
    "For å utføre fortegnstesten, teller vi antall verdier som er større enn null (spesifisert medianverdi) og sammenligner dette med hva vi ville forvente under nullhypotesen om at medianen er null.\n"
   ]
  },
  {
   "cell_type": "code",
   "execution_count": 25,
   "metadata": {},
   "outputs": [
    {
     "name": "stdout",
     "output_type": "stream",
     "text": [
      "Antall positive observasjoner: 25\n",
      "Kritisk verdi: 19.0\n",
      "P-verdi: 0.0002\n"
     ]
    }
   ],
   "source": [
    "# Utfører fortegnstest\n",
    "n = len(data)\n",
    "antall_positiv = np.sum(data > 0)  # Antall verdier større enn null\n",
    "\n",
    "# Nullhypotese: median = 0 (sannsynligheten for positivt resultat er 0.5 under H0)\n",
    "p = 0.5\n",
    "alpha = 0.05\n",
    "\n",
    "# Beregner kritisk verdi\n",
    "k = binom.ppf(1 - alpha, n, p)\n",
    "\n",
    "# P-verdi for testen\n",
    "p_verdi = 1 - binom.cdf(antall_positiv - 1, n, p)\n",
    "\n",
    "# Skriver ut resultatene\n",
    "print(f'Antall positive observasjoner: {antall_positiv}')\n",
    "print(f'Kritisk verdi: {k}')\n",
    "print(f'P-verdi: {p_verdi:.4f}')\n"
   ]
  },
  {
   "cell_type": "markdown",
   "metadata": {},
   "source": [
    "### Konklusjon\n",
    "\n",
    "Basert på antallet positive observasjoner og den beregnede P-verdien, kan vi avgjøre om vi skal forkaste nullhypotesen. Forkaster vi nullhypotesen, antyder det at medianen av populasjonen avviker signifikant fra null. Resultatene må tolkes i sammenheng med den spesifikke konteksten og signifikansnivået.\n"
   ]
  },
  {
   "cell_type": "markdown",
   "metadata": {},
   "source": [
    "### STACK 11 - Oppgave 3"
   ]
  },
  {
   "cell_type": "code",
   "execution_count": 3,
   "metadata": {},
   "outputs": [],
   "source": [
    "# Importerer nødvendige biblioteker\n",
    "import numpy as np\n",
    "from scipy.stats import norm, binom\n",
    "\n",
    "# Definerer dataene\n",
    "data = np.array([-0.26, -0.02, 1.47, 1.52, 1.21, -0.87, 1.62, 0.0, 1.2, -0.93, -1.3, 0.05, 0.76, 1.78, 1.27])\n",
    "n = len(data)\n",
    "mu_0 = 0\n",
    "sigma = 1\n",
    "alpha = 0.05\n",
    "mu_1 = 0.84\n"
   ]
  },
  {
   "cell_type": "markdown",
   "metadata": {},
   "source": [
    "### (a) Observert verdi av testobservatoren\n",
    "\n",
    "For å beregne den observerte verdien av testobservatoren, bruker vi formelen:\n",
    "$$\\frac{\\bar{X} - \\mu_0}{\\sigma/\\sqrt{n}}$$\n",
    "hvor $\\bar{X}$ er utvalgsgjennomsnittet.\n"
   ]
  },
  {
   "cell_type": "code",
   "execution_count": 4,
   "metadata": {},
   "outputs": [
    {
     "data": {
      "text/plain": [
       "1.9364916731037087"
      ]
     },
     "execution_count": 4,
     "metadata": {},
     "output_type": "execute_result"
    }
   ],
   "source": [
    "# Beregning av testobservatoren\n",
    "x_bar = data.mean()\n",
    "test_statistic = (x_bar - mu_0) / (sigma / np.sqrt(n))\n",
    "test_statistic\n"
   ]
  },
  {
   "cell_type": "markdown",
   "metadata": {},
   "source": [
    "### (b) Testens kritiske verdi\n",
    "\n",
    "Kritisk verdi kan finnes ved å bruke den øvre tailen av standard normalfordelingen, siden vi tester $\\mu > 0$.\n"
   ]
  },
  {
   "cell_type": "code",
   "execution_count": 5,
   "metadata": {},
   "outputs": [
    {
     "data": {
      "text/plain": [
       "1.644853626951472"
      ]
     },
     "execution_count": 5,
     "metadata": {},
     "output_type": "execute_result"
    }
   ],
   "source": [
    "# Beregning av kritisk verdi\n",
    "critical_value = norm.ppf(1 - alpha)\n",
    "critical_value\n"
   ]
  },
  {
   "cell_type": "markdown",
   "metadata": {},
   "source": [
    "### (c) P-verdien til testen\n",
    "\n",
    "P-verdien beregnes ved å finne sannsynligheten for å observere en verdi like ekstrem eller mer ekstrem enn den observerte teststatistikken.\n"
   ]
  },
  {
   "cell_type": "code",
   "execution_count": 6,
   "metadata": {},
   "outputs": [
    {
     "data": {
      "text/plain": [
       "0.026403755708056753"
      ]
     },
     "execution_count": 6,
     "metadata": {},
     "output_type": "execute_result"
    }
   ],
   "source": [
    "# Beregning av p-verdien\n",
    "p_value = 1 - norm.cdf(test_statistic)\n",
    "p_value\n"
   ]
  },
  {
   "cell_type": "markdown",
   "metadata": {},
   "source": [
    "### (d) Numerisk verdi av teststyrken\n",
    "\n",
    "Teststyrken, $1 - \\beta$, beregnes ved å finne sannsynligheten for å forkaste $H_0$ gitt at den reelle $\\mu = 0.84$.\n"
   ]
  },
  {
   "cell_type": "code",
   "execution_count": 7,
   "metadata": {},
   "outputs": [
    {
     "data": {
      "text/plain": [
       "0.0009129357222683598"
      ]
     },
     "execution_count": 7,
     "metadata": {},
     "output_type": "execute_result"
    }
   ],
   "source": [
    "# Beregning av teststyrken\n",
    "power = 1 - norm.cdf(critical_value, loc=mu_1, scale=sigma/np.sqrt(n))\n",
    "power\n"
   ]
  },
  {
   "cell_type": "markdown",
   "metadata": {},
   "source": [
    "### (e) Observert verdi av fortegnstestobservatoren\n",
    "\n",
    "Fortegnstestobservatoren $U$ er antall positive verdier i datasettet.\n"
   ]
  },
  {
   "cell_type": "code",
   "execution_count": 19,
   "metadata": {},
   "outputs": [
    {
     "data": {
      "text/plain": [
       "9"
      ]
     },
     "execution_count": 19,
     "metadata": {},
     "output_type": "execute_result"
    }
   ],
   "source": [
    "# Beregning av U\n",
    "U = np.sum(data > 0)\n",
    "U\n"
   ]
  },
  {
   "cell_type": "markdown",
   "metadata": {},
   "source": [
    "### (f) Kritisk verdi for fortegnstesten\n",
    "\n",
    "For å finne den kritiske verdien for fortegnstesten, bruker vi binomisk fordeling.\n"
   ]
  },
  {
   "cell_type": "code",
   "execution_count": 22,
   "metadata": {},
   "outputs": [
    {
     "data": {
      "text/plain": [
       "12.0"
      ]
     },
     "execution_count": 22,
     "metadata": {},
     "output_type": "execute_result"
    }
   ],
   "source": [
    "# Beregning av kritisk verdi for fortegnstesten\n",
    "k = binom.ppf(1 - alpha, n, 0.5)\n",
    "k + 1\n"
   ]
  },
  {
   "cell_type": "markdown",
   "metadata": {},
   "source": [
    "### (g) Fortegntestens p-verdi\n",
    "\n",
    "P-verdien for fortegnstesten beregnes ved å finne sannsynligheten for å observere $U$ eller flere strengt positive verdier under nullhypotesen.\n"
   ]
  },
  {
   "cell_type": "code",
   "execution_count": 10,
   "metadata": {},
   "outputs": [
    {
     "data": {
      "text/plain": [
       "0.303619384765625"
      ]
     },
     "execution_count": 10,
     "metadata": {},
     "output_type": "execute_result"
    }
   ],
   "source": [
    "# Beregning av p-verdien for fortegnstesten\n",
    "p_value_sign_test = 1 - binom.cdf(U - 1, n, 0.5)\n",
    "p_value_sign_test\n"
   ]
  },
  {
   "cell_type": "markdown",
   "metadata": {},
   "source": [
    "### (h) Numerisk verdi av teststyrken for fortegnstesten\n",
    "\n",
    "Teststyrken for fortegnstesten under forutsetningen $\\mu=0.84$ kan beregnes ved å finne sannsynligheten for at $X_i > 0$ når $\\mu = 0.84$ og deretter bruke denne i en binomisk fordeling for å beregne sannsynligheten for å forkaste $H_0$.\n"
   ]
  },
  {
   "cell_type": "code",
   "execution_count": 11,
   "metadata": {},
   "outputs": [
    {
     "data": {
      "text/plain": [
       "1.2750683210827063e-05"
      ]
     },
     "execution_count": 11,
     "metadata": {},
     "output_type": "execute_result"
    }
   ],
   "source": [
    "# Beregning av teststyrken for fortegnstesten\n",
    "prob_greater_than_zero = norm.cdf(-mu_1 / sigma)\n",
    "power_sign_test = 1 - binom.cdf(k - 1, n, prob_greater_than_zero)\n",
    "power_sign_test\n"
   ]
  }
 ],
 "metadata": {
  "kernelspec": {
   "display_name": "school-environment",
   "language": "python",
   "name": "python3"
  },
  "language_info": {
   "codemirror_mode": {
    "name": "ipython",
    "version": 3
   },
   "file_extension": ".py",
   "mimetype": "text/x-python",
   "name": "python",
   "nbconvert_exporter": "python",
   "pygments_lexer": "ipython3",
   "version": "3.11.8"
  }
 },
 "nbformat": 4,
 "nbformat_minor": 2
}
